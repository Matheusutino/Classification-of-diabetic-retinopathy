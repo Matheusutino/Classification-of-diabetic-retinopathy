{
 "cells": [
  {
   "cell_type": "markdown",
   "id": "b0b324c4",
   "metadata": {
    "papermill": {
     "duration": 0.011732,
     "end_time": "2022-06-02T03:27:03.402394",
     "exception": false,
     "start_time": "2022-06-02T03:27:03.390662",
     "status": "completed"
    },
    "tags": []
   },
   "source": [
    "# Grupo:\n",
    "\n",
    "#### Alessandro de Freitas Guerreiro - 11233891\n",
    "#### Matheus Yasuo Ribeiro Utino - 11233689\n",
    "#### Vinícius Silva Montanari - 11233709\n",
    "\n",
    "## Tema: Classificação por imagens da patologia retinopatia diabética utilizando técnicas de aprendizado de máquina\n",
    "### Universidade de São Paulo\n",
    "### Instituto de Ciências Matemáticas e de Computação (ICMC)\n",
    "### SCC0276 - Aprendizado de Máquina (2022)"
   ]
  },
  {
   "cell_type": "code",
   "execution_count": 1,
   "id": "702a8828",
   "metadata": {
    "_cell_guid": "b1076dfc-b9ad-4769-8c92-a6c4dae69d19",
    "_uuid": "8f2839f25d086af736a60e9eeb907d3b93b6e0e5",
    "execution": {
     "iopub.execute_input": "2022-06-02T03:27:03.421379Z",
     "iopub.status.busy": "2022-06-02T03:27:03.420888Z",
     "iopub.status.idle": "2022-06-02T03:27:11.003216Z",
     "shell.execute_reply": "2022-06-02T03:27:11.002017Z"
    },
    "papermill": {
     "duration": 7.594916,
     "end_time": "2022-06-02T03:27:11.005878",
     "exception": false,
     "start_time": "2022-06-02T03:27:03.410962",
     "status": "completed"
    },
    "tags": []
   },
   "outputs": [],
   "source": [
    "# Standard dependencies\n",
    "import cv2\n",
    "import time\n",
    "import scipy as sp\n",
    "import numpy as np\n",
    "import random as rn\n",
    "import pandas as pd\n",
    "from tqdm import tqdm\n",
    "from PIL import Image\n",
    "from functools import partial\n",
    "import matplotlib.pyplot as plt\n",
    "\n",
    "# Machine Learning\n",
    "import tensorflow as tf\n",
    "import keras\n",
    "from keras_preprocessing.image import ImageDataGenerator\n",
    "from sklearn.metrics import cohen_kappa_score"
   ]
  },
  {
   "cell_type": "code",
   "execution_count": 2,
   "id": "d613b7e2",
   "metadata": {
    "execution": {
     "iopub.execute_input": "2022-06-02T03:27:11.025021Z",
     "iopub.status.busy": "2022-06-02T03:27:11.024341Z",
     "iopub.status.idle": "2022-06-02T03:27:24.602392Z",
     "shell.execute_reply": "2022-06-02T03:27:24.601311Z"
    },
    "papermill": {
     "duration": 13.590067,
     "end_time": "2022-06-02T03:27:24.604665",
     "exception": false,
     "start_time": "2022-06-02T03:27:11.014598",
     "status": "completed"
    },
    "tags": []
   },
   "outputs": [
    {
     "name": "stdout",
     "output_type": "stream",
     "text": [
      "Collecting efficientnet\r\n",
      "  Downloading efficientnet-1.1.1-py3-none-any.whl (18 kB)\r\n",
      "Requirement already satisfied: scikit-image in /opt/conda/lib/python3.7/site-packages (from efficientnet) (0.19.2)\r\n",
      "Collecting keras-applications<=1.0.8,>=1.0.7\r\n",
      "  Downloading Keras_Applications-1.0.8-py3-none-any.whl (50 kB)\r\n",
      "\u001b[2K     \u001b[90m━━━━━━━━━━━━━━━━━━━━━━━━━━━━━━━━━━━━━━━\u001b[0m \u001b[32m50.7/50.7 kB\u001b[0m \u001b[31m448.3 kB/s\u001b[0m eta \u001b[36m0:00:00\u001b[0m\r\n",
      "\u001b[?25hRequirement already satisfied: numpy>=1.9.1 in /opt/conda/lib/python3.7/site-packages (from keras-applications<=1.0.8,>=1.0.7->efficientnet) (1.21.6)\r\n",
      "Requirement already satisfied: h5py in /opt/conda/lib/python3.7/site-packages (from keras-applications<=1.0.8,>=1.0.7->efficientnet) (3.1.0)\r\n",
      "Requirement already satisfied: packaging>=20.0 in /opt/conda/lib/python3.7/site-packages (from scikit-image->efficientnet) (21.3)\r\n",
      "Requirement already satisfied: scipy>=1.4.1 in /opt/conda/lib/python3.7/site-packages (from scikit-image->efficientnet) (1.7.3)\r\n",
      "Requirement already satisfied: networkx>=2.2 in /opt/conda/lib/python3.7/site-packages (from scikit-image->efficientnet) (2.5)\r\n",
      "Requirement already satisfied: imageio>=2.4.1 in /opt/conda/lib/python3.7/site-packages (from scikit-image->efficientnet) (2.19.1)\r\n",
      "Requirement already satisfied: pillow!=7.1.0,!=7.1.1,!=8.3.0,>=6.1.0 in /opt/conda/lib/python3.7/site-packages (from scikit-image->efficientnet) (9.1.0)\r\n",
      "Requirement already satisfied: tifffile>=2019.7.26 in /opt/conda/lib/python3.7/site-packages (from scikit-image->efficientnet) (2021.11.2)\r\n",
      "Requirement already satisfied: PyWavelets>=1.1.1 in /opt/conda/lib/python3.7/site-packages (from scikit-image->efficientnet) (1.3.0)\r\n",
      "Requirement already satisfied: decorator>=4.3.0 in /opt/conda/lib/python3.7/site-packages (from networkx>=2.2->scikit-image->efficientnet) (5.1.1)\r\n",
      "Requirement already satisfied: pyparsing!=3.0.5,>=2.0.2 in /opt/conda/lib/python3.7/site-packages (from packaging>=20.0->scikit-image->efficientnet) (3.0.9)\r\n",
      "Requirement already satisfied: cached-property in /opt/conda/lib/python3.7/site-packages (from h5py->keras-applications<=1.0.8,>=1.0.7->efficientnet) (1.5.2)\r\n",
      "Installing collected packages: keras-applications, efficientnet\r\n",
      "Successfully installed efficientnet-1.1.1 keras-applications-1.0.8\r\n",
      "\u001b[33mWARNING: Running pip as the 'root' user can result in broken permissions and conflicting behaviour with the system package manager. It is recommended to use a virtual environment instead: https://pip.pypa.io/warnings/venv\u001b[0m\u001b[33m\r\n",
      "\u001b[0mNote: you may need to restart the kernel to use updated packages.\n"
     ]
    }
   ],
   "source": [
    "pip install efficientnet"
   ]
  },
  {
   "cell_type": "markdown",
   "id": "b96f59f4",
   "metadata": {
    "papermill": {
     "duration": 0.009447,
     "end_time": "2022-06-02T03:27:24.623854",
     "exception": false,
     "start_time": "2022-06-02T03:27:24.614407",
     "status": "completed"
    },
    "tags": []
   },
   "source": [
    "# Data Analysis"
   ]
  },
  {
   "cell_type": "code",
   "execution_count": 3,
   "id": "4ba5dcd2",
   "metadata": {
    "execution": {
     "iopub.execute_input": "2022-06-02T03:27:24.644723Z",
     "iopub.status.busy": "2022-06-02T03:27:24.644353Z",
     "iopub.status.idle": "2022-06-02T03:27:24.649391Z",
     "shell.execute_reply": "2022-06-02T03:27:24.648460Z"
    },
    "papermill": {
     "duration": 0.017716,
     "end_time": "2022-06-02T03:27:24.651134",
     "exception": false,
     "start_time": "2022-06-02T03:27:24.633418",
     "status": "completed"
    },
    "tags": []
   },
   "outputs": [],
   "source": [
    "#Define path of files\n",
    "\n",
    "KAGGLE_DIR = '../input/aptos2019-blindness-detection/'\n",
    "TRAIN_DF_PATH = KAGGLE_DIR + \"train.csv\"\n",
    "TRAIN_IMG_PATH = KAGGLE_DIR + \"train_images/\""
   ]
  },
  {
   "cell_type": "code",
   "execution_count": 4,
   "id": "7feb797c",
   "metadata": {
    "execution": {
     "iopub.execute_input": "2022-06-02T03:27:24.671427Z",
     "iopub.status.busy": "2022-06-02T03:27:24.671046Z",
     "iopub.status.idle": "2022-06-02T03:27:24.699228Z",
     "shell.execute_reply": "2022-06-02T03:27:24.697918Z"
    },
    "papermill": {
     "duration": 0.041034,
     "end_time": "2022-06-02T03:27:24.701604",
     "exception": false,
     "start_time": "2022-06-02T03:27:24.660570",
     "status": "completed"
    },
    "tags": []
   },
   "outputs": [],
   "source": [
    "#Load csv and convert to pandas dataframe\n",
    "\n",
    "df_train = pd.read_csv(TRAIN_DF_PATH)\n",
    "df_train['id_code'] = df_train['id_code'] + \".png\""
   ]
  },
  {
   "cell_type": "code",
   "execution_count": 5,
   "id": "06e03269",
   "metadata": {
    "execution": {
     "iopub.execute_input": "2022-06-02T03:27:24.722140Z",
     "iopub.status.busy": "2022-06-02T03:27:24.721726Z",
     "iopub.status.idle": "2022-06-02T03:27:24.738790Z",
     "shell.execute_reply": "2022-06-02T03:27:24.737801Z"
    },
    "papermill": {
     "duration": 0.030335,
     "end_time": "2022-06-02T03:27:24.741568",
     "exception": false,
     "start_time": "2022-06-02T03:27:24.711233",
     "status": "completed"
    },
    "tags": []
   },
   "outputs": [
    {
     "name": "stdout",
     "output_type": "stream",
     "text": [
      "Train dataset size : (3662, 2) \n",
      "\n"
     ]
    },
    {
     "data": {
      "text/html": [
       "<div>\n",
       "<style scoped>\n",
       "    .dataframe tbody tr th:only-of-type {\n",
       "        vertical-align: middle;\n",
       "    }\n",
       "\n",
       "    .dataframe tbody tr th {\n",
       "        vertical-align: top;\n",
       "    }\n",
       "\n",
       "    .dataframe thead th {\n",
       "        text-align: right;\n",
       "    }\n",
       "</style>\n",
       "<table border=\"1\" class=\"dataframe\">\n",
       "  <thead>\n",
       "    <tr style=\"text-align: right;\">\n",
       "      <th></th>\n",
       "      <th>id_code</th>\n",
       "      <th>diagnosis</th>\n",
       "    </tr>\n",
       "  </thead>\n",
       "  <tbody>\n",
       "    <tr>\n",
       "      <th>0</th>\n",
       "      <td>000c1434d8d7.png</td>\n",
       "      <td>2</td>\n",
       "    </tr>\n",
       "    <tr>\n",
       "      <th>1</th>\n",
       "      <td>001639a390f0.png</td>\n",
       "      <td>4</td>\n",
       "    </tr>\n",
       "    <tr>\n",
       "      <th>2</th>\n",
       "      <td>0024cdab0c1e.png</td>\n",
       "      <td>1</td>\n",
       "    </tr>\n",
       "    <tr>\n",
       "      <th>3</th>\n",
       "      <td>002c21358ce6.png</td>\n",
       "      <td>0</td>\n",
       "    </tr>\n",
       "    <tr>\n",
       "      <th>4</th>\n",
       "      <td>005b95c28852.png</td>\n",
       "      <td>0</td>\n",
       "    </tr>\n",
       "  </tbody>\n",
       "</table>\n",
       "</div>"
      ],
      "text/plain": [
       "            id_code  diagnosis\n",
       "0  000c1434d8d7.png          2\n",
       "1  001639a390f0.png          4\n",
       "2  0024cdab0c1e.png          1\n",
       "3  002c21358ce6.png          0\n",
       "4  005b95c28852.png          0"
      ]
     },
     "execution_count": 5,
     "metadata": {},
     "output_type": "execute_result"
    }
   ],
   "source": [
    "#Show train dataset shape and informations\n",
    "\n",
    "print(\"Train dataset size :\", df_train.shape, \"\\n\")\n",
    "df_train.head()"
   ]
  },
  {
   "cell_type": "code",
   "execution_count": 6,
   "id": "c8d42ab3",
   "metadata": {
    "execution": {
     "iopub.execute_input": "2022-06-02T03:27:24.763081Z",
     "iopub.status.busy": "2022-06-02T03:27:24.762259Z",
     "iopub.status.idle": "2022-06-02T03:27:24.779442Z",
     "shell.execute_reply": "2022-06-02T03:27:24.778494Z"
    },
    "papermill": {
     "duration": 0.029954,
     "end_time": "2022-06-02T03:27:24.781571",
     "exception": false,
     "start_time": "2022-06-02T03:27:24.751617",
     "status": "completed"
    },
    "tags": []
   },
   "outputs": [
    {
     "data": {
      "text/html": [
       "<div>\n",
       "<style scoped>\n",
       "    .dataframe tbody tr th:only-of-type {\n",
       "        vertical-align: middle;\n",
       "    }\n",
       "\n",
       "    .dataframe tbody tr th {\n",
       "        vertical-align: top;\n",
       "    }\n",
       "\n",
       "    .dataframe thead th {\n",
       "        text-align: right;\n",
       "    }\n",
       "</style>\n",
       "<table border=\"1\" class=\"dataframe\">\n",
       "  <thead>\n",
       "    <tr style=\"text-align: right;\">\n",
       "      <th></th>\n",
       "      <th>id_code</th>\n",
       "    </tr>\n",
       "    <tr>\n",
       "      <th>diagnosis</th>\n",
       "      <th></th>\n",
       "    </tr>\n",
       "  </thead>\n",
       "  <tbody>\n",
       "    <tr>\n",
       "      <th>0</th>\n",
       "      <td>1805</td>\n",
       "    </tr>\n",
       "    <tr>\n",
       "      <th>1</th>\n",
       "      <td>370</td>\n",
       "    </tr>\n",
       "    <tr>\n",
       "      <th>2</th>\n",
       "      <td>999</td>\n",
       "    </tr>\n",
       "    <tr>\n",
       "      <th>3</th>\n",
       "      <td>193</td>\n",
       "    </tr>\n",
       "    <tr>\n",
       "      <th>4</th>\n",
       "      <td>295</td>\n",
       "    </tr>\n",
       "  </tbody>\n",
       "</table>\n",
       "</div>"
      ],
      "text/plain": [
       "           id_code\n",
       "diagnosis         \n",
       "0             1805\n",
       "1              370\n",
       "2              999\n",
       "3              193\n",
       "4              295"
      ]
     },
     "execution_count": 6,
     "metadata": {},
     "output_type": "execute_result"
    }
   ],
   "source": [
    "#Get number of occurrences of each class in train dataset\n",
    "\n",
    "df_train.groupby('diagnosis').count()"
   ]
  },
  {
   "cell_type": "code",
   "execution_count": 7,
   "id": "6eb66608",
   "metadata": {
    "execution": {
     "iopub.execute_input": "2022-06-02T03:27:24.803760Z",
     "iopub.status.busy": "2022-06-02T03:27:24.802983Z",
     "iopub.status.idle": "2022-06-02T03:27:25.264765Z",
     "shell.execute_reply": "2022-06-02T03:27:25.263726Z"
    },
    "papermill": {
     "duration": 0.476139,
     "end_time": "2022-06-02T03:27:25.267892",
     "exception": false,
     "start_time": "2022-06-02T03:27:24.791753",
     "status": "completed"
    },
    "tags": []
   },
   "outputs": [
    {
     "data": {
      "image/png": "[encoded data removed]",
      "text/plain": [
       "<Figure size 432x288 with 1 Axes>"
      ]
     },
     "metadata": {},
     "output_type": "display_data"
    }
   ],
   "source": [
    "#Pie graph for classes in train dataset\n",
    "\n",
    "df_train['diagnosis'].value_counts().plot(labels = ['Normal', 'Moderate', 'Mild', 'Proliferative', 'Severe'],kind = 'pie',autopct='%1.1f%%')\n",
    "plt.savefig('pie_train_classes.png', dpi = 400)\n",
    "plt.show() "
   ]
  },
  {
   "cell_type": "code",
   "execution_count": 8,
   "id": "f5d8fa57",
   "metadata": {
    "execution": {
     "iopub.execute_input": "2022-06-02T03:27:25.309227Z",
     "iopub.status.busy": "2022-06-02T03:27:25.307996Z",
     "iopub.status.idle": "2022-06-02T03:27:25.324686Z",
     "shell.execute_reply": "2022-06-02T03:27:25.323781Z"
    },
    "papermill": {
     "duration": 0.041316,
     "end_time": "2022-06-02T03:27:25.328799",
     "exception": false,
     "start_time": "2022-06-02T03:27:25.287483",
     "status": "completed"
    },
    "tags": []
   },
   "outputs": [
    {
     "name": "stdout",
     "output_type": "stream",
     "text": [
      "Train dataset size : (3662, 2) \n",
      "\n",
      "There are Nan in train dataset?  False \n",
      "\n"
     ]
    }
   ],
   "source": [
    "# Remove duplicated lines in dataframes\n",
    "df_train = df_train.drop_duplicates()\n",
    "print(\"Train dataset size :\", df_train.shape, \"\\n\")\n",
    "\n",
    "# Analysis Nan values in dataframes\n",
    "print(\"There are Nan in train dataset? \", bool(df_train.isnull().sum().sum()), \"\\n\")"
   ]
  },
  {
   "cell_type": "code",
   "execution_count": 9,
   "id": "b0091e57",
   "metadata": {
    "execution": {
     "iopub.execute_input": "2022-06-02T03:27:25.355608Z",
     "iopub.status.busy": "2022-06-02T03:27:25.355240Z",
     "iopub.status.idle": "2022-06-02T03:27:36.221780Z",
     "shell.execute_reply": "2022-06-02T03:27:36.220992Z"
    },
    "papermill": {
     "duration": 10.881309,
     "end_time": "2022-06-02T03:27:36.224885",
     "exception": false,
     "start_time": "2022-06-02T03:27:25.343576",
     "status": "completed"
    },
    "tags": []
   },
   "outputs": [
    {
     "name": "stdout",
     "output_type": "stream",
     "text": [
      "Shape of Image: (1736, 2416, 3)\n",
      "Shape of Image: (1958, 2588, 3)\n",
      "Shape of Image: (1424, 2144, 3)\n",
      "Shape of Image: (1736, 2416, 3)\n",
      "Shape of Image: (2588, 3388, 3)\n"
     ]
    },
    {
     "data": {
      "image/png": "[encoded data removed]",
      "text/plain": [
       "<Figure size 1080x432 with 5 Axes>"
      ]
     },
     "metadata": {
      "needs_background": "light"
     },
     "output_type": "display_data"
    }
   ],
   "source": [
    "import matplotlib.pyplot as plt\n",
    "import matplotlib.image as mpimg\n",
    "\n",
    "# Plot one figure for each class in dataframe\n",
    "\n",
    "fig, ax = plt.subplots(1, 5, figsize=(15, 6))\n",
    "for i in range(5):\n",
    "    sample = df_train[df_train['diagnosis'] == i].sample(1)\n",
    "    image_name = sample['id_code'].item()\n",
    "    X = mpimg.imread('../input/aptos2019-blindness-detection/train_images/' + image_name)\n",
    "    print(\"Shape of Image: \" + str(X.shape))\n",
    "    ax[i].set_title(f\"Image: {image_name}\\n Label = {sample['diagnosis'].item()}\", \n",
    "                    weight='bold', fontsize=10)\n",
    "    ax[i].axis('off')\n",
    "    ax[i].imshow(X);\n",
    "plt.savefig('real_images.png', dpi = 200)"
   ]
  },
  {
   "cell_type": "markdown",
   "id": "f15ee2e9",
   "metadata": {
    "papermill": {
     "duration": 0.012686,
     "end_time": "2022-06-02T03:27:36.251079",
     "exception": false,
     "start_time": "2022-06-02T03:27:36.238393",
     "status": "completed"
    },
    "tags": []
   },
   "source": [
    "# Preprocessing"
   ]
  },
  {
   "cell_type": "code",
   "execution_count": 10,
   "id": "21794352",
   "metadata": {
    "execution": {
     "iopub.execute_input": "2022-06-02T03:27:36.279439Z",
     "iopub.status.busy": "2022-06-02T03:27:36.278495Z",
     "iopub.status.idle": "2022-06-02T03:27:41.435068Z",
     "shell.execute_reply": "2022-06-02T03:27:41.433968Z"
    },
    "papermill": {
     "duration": 5.17388,
     "end_time": "2022-06-02T03:27:41.437873",
     "exception": false,
     "start_time": "2022-06-02T03:27:36.263993",
     "status": "completed"
    },
    "tags": []
   },
   "outputs": [
    {
     "name": "stderr",
     "output_type": "stream",
     "text": [
      "2022-06-02 03:27:36.763287: I tensorflow/core/common_runtime/process_util.cc:146] Creating new thread pool with default inter op setting: 2. Tune using inter_op_parallelism_threads for best performance.\n"
     ]
    },
    {
     "name": "stdout",
     "output_type": "stream",
     "text": [
      "Downloading data from https://storage.googleapis.com/keras-applications/efficientnetb3_notop.h5\n",
      "43941888/43941136 [==============================] - 0s 0us/step\n",
      "43950080/43941136 [==============================] - 0s 0us/step\n",
      "Model: \"sequential\"\n",
      "_________________________________________________________________\n",
      "Layer (type)                 Output Shape              Param #   \n",
      "=================================================================\n",
      "efficientnetb3 (Functional)  (None, 10, 10, 1536)      10783535  \n",
      "_________________________________________________________________\n",
      "global_average_pooling2d (Gl (None, 1536)              0         \n",
      "=================================================================\n",
      "Total params: 10,783,535\n",
      "Trainable params: 10,696,232\n",
      "Non-trainable params: 87,303\n",
      "_________________________________________________________________\n"
     ]
    }
   ],
   "source": [
    "import tensorflow as tf\n",
    "from tensorflow import keras\n",
    "from keras import *\n",
    "from keras.models import Sequential, load_model\n",
    "from keras.models import Model\n",
    "from keras.layers import GlobalAveragePooling2D, Dropout\n",
    "from keras.layers.core import Dense\n",
    "import tensorflow.keras as keras\n",
    "from tensorflow.keras.applications import EfficientNetB3\n",
    "\n",
    "#Define some constants about the images\n",
    "\n",
    "IMG_WIDTH = 320\n",
    "IMG_HEIGHT = 320\n",
    "NUM_DIMENSIONS = 3\n",
    "BATCH_SIZE = 1\n",
    "\n",
    "INPUT_SHAPE = (IMG_WIDTH, IMG_HEIGHT, NUM_DIMENSIONS)\n",
    "\n",
    "#Building a cnn for features extraction using fine tunning\n",
    "\n",
    "efnb3 = EfficientNetB3(weights='imagenet', include_top = False, input_shape = INPUT_SHAPE)\n",
    "\n",
    "model = Sequential()\n",
    "model.add(efnb3)\n",
    "model.add(GlobalAveragePooling2D())\n",
    "\n",
    "model.summary()\n"
   ]
  },
  {
   "cell_type": "code",
   "execution_count": 11,
   "id": "87f493ff",
   "metadata": {
    "execution": {
     "iopub.execute_input": "2022-06-02T03:27:41.467920Z",
     "iopub.status.busy": "2022-06-02T03:27:41.467555Z",
     "iopub.status.idle": "2022-06-02T03:27:46.307538Z",
     "shell.execute_reply": "2022-06-02T03:27:46.306902Z"
    },
    "papermill": {
     "duration": 4.857484,
     "end_time": "2022-06-02T03:27:46.309738",
     "exception": false,
     "start_time": "2022-06-02T03:27:41.452254",
     "status": "completed"
    },
    "tags": []
   },
   "outputs": [
    {
     "name": "stdout",
     "output_type": "stream",
     "text": [
      "Found 3662 validated image filenames.\n"
     ]
    }
   ],
   "source": [
    "# Image Data Generator\n",
    "\n",
    "train_datagen = ImageDataGenerator()\n",
    "\n",
    "# Resize and load image\n",
    "\n",
    "train_generator = train_datagen.flow_from_dataframe(df_train, \n",
    "                                                    x_col='id_code', \n",
    "                                                    y_col='diagnosis',\n",
    "                                                    directory = TRAIN_IMG_PATH,\n",
    "                                                    target_size=(IMG_WIDTH, IMG_HEIGHT),\n",
    "                                                    batch_size=BATCH_SIZE,\n",
    "                                                    seed=42,\n",
    "                                                    class_mode='raw', \n",
    "                                                    subset='training')\n"
   ]
  },
  {
   "cell_type": "code",
   "execution_count": 12,
   "id": "e2a30bf6",
   "metadata": {
    "execution": {
     "iopub.execute_input": "2022-06-02T03:27:46.340072Z",
     "iopub.status.busy": "2022-06-02T03:27:46.339072Z",
     "iopub.status.idle": "2022-06-02T03:27:46.345593Z",
     "shell.execute_reply": "2022-06-02T03:27:46.344946Z"
    },
    "papermill": {
     "duration": 0.023574,
     "end_time": "2022-06-02T03:27:46.347521",
     "exception": false,
     "start_time": "2022-06-02T03:27:46.323947",
     "status": "completed"
    },
    "tags": []
   },
   "outputs": [],
   "source": [
    "# Generate data\n",
    "\n",
    "def generateData(generator, numElements):\n",
    "    x = []\n",
    "    y = []\n",
    "        \n",
    "    for j in tqdm(range(0, numElements)):\n",
    "        img, label = next(generator)\n",
    "        x.append(model.predict(img))\n",
    "        y.append(label)\n",
    "            \n",
    "    return np.array(x),np.array(y)"
   ]
  },
  {
   "cell_type": "code",
   "execution_count": 13,
   "id": "1a0764c0",
   "metadata": {
    "execution": {
     "iopub.execute_input": "2022-06-02T03:27:46.377096Z",
     "iopub.status.busy": "2022-06-02T03:27:46.376708Z",
     "iopub.status.idle": "2022-06-02T03:48:58.573120Z",
     "shell.execute_reply": "2022-06-02T03:48:58.570774Z"
    },
    "papermill": {
     "duration": 1272.21502,
     "end_time": "2022-06-02T03:48:58.576418",
     "exception": false,
     "start_time": "2022-06-02T03:27:46.361398",
     "status": "completed"
    },
    "tags": []
   },
   "outputs": [
    {
     "name": "stdout",
     "output_type": "stream",
     "text": [
      "Generating train dataset!\n"
     ]
    },
    {
     "name": "stderr",
     "output_type": "stream",
     "text": [
      "  0%|          | 0/3662 [00:00<?, ?it/s]2022-06-02 03:27:46.578533: I tensorflow/compiler/mlir/mlir_graph_optimization_pass.cc:185] None of the MLIR Optimization Passes are enabled (registered 2)\n",
      "100%|██████████| 3662/3662 [21:12<00:00,  2.88it/s]\n"
     ]
    }
   ],
   "source": [
    "print('Generating train dataset!')\n",
    "x_train, y_train = generateData(train_generator, len(train_generator))"
   ]
  },
  {
   "cell_type": "code",
   "execution_count": 14,
   "id": "96c749f1",
   "metadata": {
    "execution": {
     "iopub.execute_input": "2022-06-02T03:48:59.112237Z",
     "iopub.status.busy": "2022-06-02T03:48:59.111423Z",
     "iopub.status.idle": "2022-06-02T03:48:59.118774Z",
     "shell.execute_reply": "2022-06-02T03:48:59.117843Z"
    },
    "papermill": {
     "duration": 0.277961,
     "end_time": "2022-06-02T03:48:59.120820",
     "exception": false,
     "start_time": "2022-06-02T03:48:58.842859",
     "status": "completed"
    },
    "tags": []
   },
   "outputs": [
    {
     "data": {
      "text/plain": [
       "(3662, 1, 1536)"
      ]
     },
     "execution_count": 14,
     "metadata": {},
     "output_type": "execute_result"
    }
   ],
   "source": [
    "x_train.shape"
   ]
  },
  {
   "cell_type": "code",
   "execution_count": 15,
   "id": "d5cdb022",
   "metadata": {
    "execution": {
     "iopub.execute_input": "2022-06-02T03:48:59.715612Z",
     "iopub.status.busy": "2022-06-02T03:48:59.714707Z",
     "iopub.status.idle": "2022-06-02T03:48:59.720647Z",
     "shell.execute_reply": "2022-06-02T03:48:59.719941Z"
    },
    "papermill": {
     "duration": 0.27587,
     "end_time": "2022-06-02T03:48:59.722449",
     "exception": false,
     "start_time": "2022-06-02T03:48:59.446579",
     "status": "completed"
    },
    "tags": []
   },
   "outputs": [
    {
     "data": {
      "text/plain": [
       "(3662, 1)"
      ]
     },
     "execution_count": 15,
     "metadata": {},
     "output_type": "execute_result"
    }
   ],
   "source": [
    "y_train.shape"
   ]
  },
  {
   "cell_type": "code",
   "execution_count": 16,
   "id": "915f1bd6",
   "metadata": {
    "execution": {
     "iopub.execute_input": "2022-06-02T03:49:00.263977Z",
     "iopub.status.busy": "2022-06-02T03:49:00.262947Z",
     "iopub.status.idle": "2022-06-02T03:49:00.275555Z",
     "shell.execute_reply": "2022-06-02T03:49:00.274812Z"
    },
    "papermill": {
     "duration": 0.284801,
     "end_time": "2022-06-02T03:49:00.277749",
     "exception": false,
     "start_time": "2022-06-02T03:48:59.992948",
     "status": "completed"
    },
    "tags": []
   },
   "outputs": [],
   "source": [
    "#Change dimension (numElements, 1, IMG_WIDTH, IMG_HEIGHT, NUM_DIMENSIONS) to (numElements, IMG_WIDTH, IMG_HEIGHT, NUM_DIMENSIONS)\n",
    "x_train = np.array(np.squeeze(x_train, axis = 1))\n",
    "\n",
    "#Change dimension (numElements, 1) to (numElements)\n",
    "y_train = np.ravel(y_train)"
   ]
  },
  {
   "cell_type": "code",
   "execution_count": 17,
   "id": "ba372d11",
   "metadata": {
    "execution": {
     "iopub.execute_input": "2022-06-02T03:49:00.812637Z",
     "iopub.status.busy": "2022-06-02T03:49:00.811899Z",
     "iopub.status.idle": "2022-06-02T03:49:00.893736Z",
     "shell.execute_reply": "2022-06-02T03:49:00.892819Z"
    },
    "papermill": {
     "duration": 0.351183,
     "end_time": "2022-06-02T03:49:00.895975",
     "exception": false,
     "start_time": "2022-06-02T03:49:00.544792",
     "status": "completed"
    },
    "tags": []
   },
   "outputs": [],
   "source": [
    "#Generate train, validate and test \n",
    "\n",
    "from sklearn.model_selection import train_test_split\n",
    "\n",
    "x_train_2, x_test, y_train_2, y_test = train_test_split(x_train, y_train, test_size=0.15, stratify=y_train, shuffle = True, random_state=42)\n",
    "\n",
    "x_train_final, x_val, y_train_final, y_val = train_test_split(x_train_2, y_train_2, test_size=0.2, stratify=y_train_2, shuffle = True, random_state=42)"
   ]
  },
  {
   "cell_type": "code",
   "execution_count": 18,
   "id": "0d6318e4",
   "metadata": {
    "execution": {
     "iopub.execute_input": "2022-06-02T03:49:01.490463Z",
     "iopub.status.busy": "2022-06-02T03:49:01.489746Z",
     "iopub.status.idle": "2022-06-02T03:49:02.126473Z",
     "shell.execute_reply": "2022-06-02T03:49:02.125065Z"
    },
    "papermill": {
     "duration": 0.968265,
     "end_time": "2022-06-02T03:49:02.130074",
     "exception": false,
     "start_time": "2022-06-02T03:49:01.161809",
     "status": "completed"
    },
    "tags": []
   },
   "outputs": [],
   "source": [
    "from imblearn.over_sampling import SMOTE\n",
    "\n",
    "# Using Synthetic Minority Oversampling Technique (SMOTE) to balance dataset\n",
    "\n",
    "sm = SMOTE(random_state=42)\n",
    "x_train_SMOTE, y_train_SMOTE = sm.fit_resample(x_train_final, y_train_final)"
   ]
  },
  {
   "cell_type": "code",
   "execution_count": 19,
   "id": "847cd889",
   "metadata": {
    "execution": {
     "iopub.execute_input": "2022-06-02T03:49:02.688533Z",
     "iopub.status.busy": "2022-06-02T03:49:02.687962Z",
     "iopub.status.idle": "2022-06-02T03:49:02.734318Z",
     "shell.execute_reply": "2022-06-02T03:49:02.733251Z"
    },
    "papermill": {
     "duration": 0.315454,
     "end_time": "2022-06-02T03:49:02.736631",
     "exception": false,
     "start_time": "2022-06-02T03:49:02.421177",
     "status": "completed"
    },
    "tags": []
   },
   "outputs": [],
   "source": [
    "from imblearn.over_sampling import RandomOverSampler \n",
    "\n",
    "# Using RandomOverSampler to balance dataset\n",
    "\n",
    "sm = RandomOverSampler(random_state=42)\n",
    "x_train_ROV, y_train_ROV = sm.fit_resample(x_train_final, y_train_final)"
   ]
  },
  {
   "cell_type": "code",
   "execution_count": 20,
   "id": "1770e439",
   "metadata": {
    "execution": {
     "iopub.execute_input": "2022-06-02T03:49:03.268690Z",
     "iopub.status.busy": "2022-06-02T03:49:03.268310Z",
     "iopub.status.idle": "2022-06-02T03:49:03.926975Z",
     "shell.execute_reply": "2022-06-02T03:49:03.925829Z"
    },
    "papermill": {
     "duration": 0.928019,
     "end_time": "2022-06-02T03:49:03.930355",
     "exception": false,
     "start_time": "2022-06-02T03:49:03.002336",
     "status": "completed"
    },
    "tags": []
   },
   "outputs": [],
   "source": [
    "from imblearn.over_sampling import BorderlineSMOTE\n",
    "\n",
    "# Using BorderlineSMOTE to balance dataset\n",
    "\n",
    "sm = BorderlineSMOTE(random_state = 42)\n",
    "x_train_BLM, y_train_BLM = sm.fit_resample(x_train_final, y_train_final)"
   ]
  },
  {
   "cell_type": "code",
   "execution_count": 21,
   "id": "af2520c0",
   "metadata": {
    "execution": {
     "iopub.execute_input": "2022-06-02T03:49:04.488488Z",
     "iopub.status.busy": "2022-06-02T03:49:04.488047Z",
     "iopub.status.idle": "2022-06-02T03:49:05.075437Z",
     "shell.execute_reply": "2022-06-02T03:49:05.074207Z"
    },
    "papermill": {
     "duration": 0.855317,
     "end_time": "2022-06-02T03:49:05.078891",
     "exception": false,
     "start_time": "2022-06-02T03:49:04.223574",
     "status": "completed"
    },
    "tags": []
   },
   "outputs": [],
   "source": [
    "from imblearn.over_sampling import ADASYN \n",
    "\n",
    "# Using ADASYN  to balance dataset\n",
    "\n",
    "sm = ADASYN(random_state=42)\n",
    "x_train_ADASYN, y_train_ADASYN = sm.fit_resample(x_train_final, y_train_final)"
   ]
  },
  {
   "cell_type": "code",
   "execution_count": 22,
   "id": "4362c18d",
   "metadata": {
    "execution": {
     "iopub.execute_input": "2022-06-02T03:49:05.646048Z",
     "iopub.status.busy": "2022-06-02T03:49:05.645657Z",
     "iopub.status.idle": "2022-06-02T03:49:05.672558Z",
     "shell.execute_reply": "2022-06-02T03:49:05.671635Z"
    },
    "papermill": {
     "duration": 0.301005,
     "end_time": "2022-06-02T03:49:05.674742",
     "exception": false,
     "start_time": "2022-06-02T03:49:05.373737",
     "status": "completed"
    },
    "tags": []
   },
   "outputs": [],
   "source": [
    "from sklearn.model_selection import GridSearchCV\n",
    "from sklearn.model_selection import StratifiedKFold\n",
    "from sklearn.metrics import cohen_kappa_score, make_scorer\n",
    "from sklearn.metrics import classification_report\n",
    "from sklearn.metrics import accuracy_score\n",
    "from sklearn.metrics import f1_score\n",
    "\n",
    "#Get results of validate and test dataset\n",
    "\n",
    "def getResults(nameClassifier, nameDataAugmentation, x_train, y_train, x_val, y_val, x_test, y_test):\n",
    "    \n",
    "    print(\"Using \", nameClassifier, \"and\", nameDataAugmentation, \"data augmentation technic\\n\\n\")\n",
    "    \n",
    "    results_val = []\n",
    "    if(nameClassifier == \"KNN\"):\n",
    "        for K in range(2, 13):\n",
    "            for weight in ['uniform','distance']:\n",
    "                clf = KNeighborsClassifier(n_neighbors = K, weights = weight)\n",
    "                clf.fit(x_train, y_train)\n",
    "                y_pred = clf.predict(x_val)\n",
    "                results_val.append([K, weight, accuracy_score(y_val, y_pred), f1_score(y_val, y_pred, average='macro'), cohen_kappa_score(y_val, y_pred, weights = 'quadratic')])\n",
    "                \n",
    "    elif(nameClassifier == \"Decision Tree\"):\n",
    "        for max_depth in range(2, 11):\n",
    "            for criterion in ['gini', 'entropy']:\n",
    "                clf = DecisionTreeClassifier(max_depth = max_depth, criterion = criterion, random_state = 42)\n",
    "                clf.fit(x_train, y_train)\n",
    "                y_pred = clf.predict(x_val)\n",
    "                results_val.append([max_depth, criterion, accuracy_score(y_val, y_pred), f1_score(y_val, y_pred, average='macro'), cohen_kappa_score(y_val, y_pred, weights = 'quadratic')])\n",
    "    \n",
    "    elif(nameClassifier == \"SVM\"): \n",
    "        for C in [10, 100, 1000]:\n",
    "            for kernel in ['linear', 'poly', 'rbf', 'sigmoid']:\n",
    "                clf = svm.SVC(C = C, kernel = kernel, random_state = 42)\n",
    "                clf.fit(x_train, y_train)\n",
    "                y_pred = clf.predict(x_val)\n",
    "                results_val.append([C, kernel, accuracy_score(y_val, y_pred), f1_score(y_val, y_pred, average='macro'), cohen_kappa_score(y_val, y_pred, weights = 'quadratic')])\n",
    "        \n",
    "    print(\"Results of validate:\\n\")\n",
    "    for i in results_val:\n",
    "        print(i)\n",
    "    print(\"\\n\")\n",
    "    \n",
    "    \n",
    "    max = results_val[0][4]\n",
    "    index_max = 0\n",
    "    # Search max cohen kappa score\n",
    "    for i in range(1,len(results_val)):\n",
    "        if(results_val[i][4] > max):\n",
    "            max = results_val[i][4]\n",
    "            index_max = i\n",
    "    \n",
    "    print(\"Best validate results and params:\",results_val[index_max])\n",
    "    \n",
    "    results_test = []\n",
    "    \n",
    "    if(nameClassifier == \"KNN\"):\n",
    "        clf = KNeighborsClassifier(n_neighbors = results_val[index_max][0], weights = results_val[index_max][1])\n",
    "        clf.fit(x_train, y_train)\n",
    "        y_pred = clf.predict(x_test)\n",
    "        results_test.append([results_val[index_max][0], results_val[index_max][1], accuracy_score(y_test, y_pred), f1_score(y_test, y_pred, average='macro'), cohen_kappa_score(y_test, y_pred, weights = 'quadratic')])\n",
    "        \n",
    "    elif(nameClassifier == \"Decision Tree\"):\n",
    "        clf = DecisionTreeClassifier(max_depth = results_val[index_max][0], criterion = results_val[index_max][1], random_state = 42)\n",
    "        clf.fit(x_train, y_train)\n",
    "        y_pred = clf.predict(x_test)\n",
    "        results_test.append([results_val[index_max][0], results_val[index_max][1], accuracy_score(y_test, y_pred), f1_score(y_test, y_pred, average='macro'), cohen_kappa_score(y_test, y_pred, weights = 'quadratic')])\n",
    "        \n",
    "    elif(nameClassifier == \"SVM\"): \n",
    "        clf = svm.SVC(C = results_val[index_max][0], kernel = results_val[index_max][1], random_state = 42)\n",
    "        clf.fit(x_train, y_train)\n",
    "        y_pred = clf.predict(x_test)\n",
    "        results_test.append([results_val[index_max][0], results_val[index_max][1], accuracy_score(y_test, y_pred), f1_score(y_test, y_pred, average='macro'), cohen_kappa_score(y_test, y_pred, weights = 'quadratic')]) \n",
    "        \n",
    "    print(\"Result of test:\",results_test)\n",
    "    print(\"\\n\\n\\n\")"
   ]
  },
  {
   "cell_type": "markdown",
   "id": "717b5c90",
   "metadata": {
    "papermill": {
     "duration": 0.321006,
     "end_time": "2022-06-02T03:49:06.261583",
     "exception": false,
     "start_time": "2022-06-02T03:49:05.940577",
     "status": "completed"
    },
    "tags": []
   },
   "source": [
    "# K-Nearest Neighbors (KNN)"
   ]
  },
  {
   "cell_type": "code",
   "execution_count": 23,
   "id": "c10a7d66",
   "metadata": {
    "execution": {
     "iopub.execute_input": "2022-06-02T03:49:06.793260Z",
     "iopub.status.busy": "2022-06-02T03:49:06.792866Z",
     "iopub.status.idle": "2022-06-02T03:49:51.380743Z",
     "shell.execute_reply": "2022-06-02T03:49:51.379625Z"
    },
    "papermill": {
     "duration": 44.855144,
     "end_time": "2022-06-02T03:49:51.383738",
     "exception": false,
     "start_time": "2022-06-02T03:49:06.528594",
     "status": "completed"
    },
    "tags": []
   },
   "outputs": [
    {
     "name": "stdout",
     "output_type": "stream",
     "text": [
      "Using  KNN and Nothing data augmentation technic\n",
      "\n",
      "\n",
      "Results of validate:\n",
      "\n",
      "[2, 'uniform', 0.7271268057784912, 0.4417260617853612, 0.7435418772784363]\n",
      "[2, 'distance', 0.7415730337078652, 0.5384159270593273, 0.7693173571100612]\n",
      "[3, 'uniform', 0.7431781701444623, 0.46580915488805025, 0.7463616171826819]\n",
      "[3, 'distance', 0.7560192616372392, 0.5218734399701372, 0.7904541402092862]\n",
      "[4, 'uniform', 0.7592295345104334, 0.4912971999422928, 0.7845262296137536]\n",
      "[4, 'distance', 0.7608346709470305, 0.5101089532057023, 0.8022347787442068]\n",
      "[5, 'uniform', 0.7624398073836276, 0.47242692410921894, 0.7731674316433077]\n",
      "[5, 'distance', 0.7688603531300161, 0.5115215719611583, 0.8036787876642]\n",
      "[6, 'uniform', 0.7656500802568218, 0.4793307347900523, 0.7832139442909338]\n",
      "[6, 'distance', 0.7704654895666132, 0.5093206614553132, 0.7963111575864184]\n",
      "[7, 'uniform', 0.7640449438202247, 0.45829664937264036, 0.7885528440729676]\n",
      "[7, 'distance', 0.7720706260032103, 0.496457471441803, 0.8151627833379484]\n",
      "[8, 'uniform', 0.7736757624398074, 0.49757541891569224, 0.7992149935124583]\n",
      "[8, 'distance', 0.7752808988764045, 0.5115086101864589, 0.8136397690435587]\n",
      "[9, 'uniform', 0.7624398073836276, 0.46062464279944926, 0.7888617928107802]\n",
      "[9, 'distance', 0.7704654895666132, 0.4951572992300643, 0.8097205590073795]\n",
      "[10, 'uniform', 0.7608346709470305, 0.4641891122296398, 0.788796102022828]\n",
      "[10, 'distance', 0.7720706260032103, 0.4969899538820126, 0.8103127227651656]\n",
      "[11, 'uniform', 0.7608346709470305, 0.4535880375284462, 0.7830733618266685]\n",
      "[11, 'distance', 0.7688603531300161, 0.47762579429523966, 0.8081619528518602]\n",
      "[12, 'uniform', 0.7640449438202247, 0.4592608764109255, 0.7728630298923551]\n",
      "[12, 'distance', 0.7736757624398074, 0.49342229629146084, 0.8036118877424]\n",
      "\n",
      "\n",
      "Best validate results and params: [7, 'distance', 0.7720706260032103, 0.496457471441803, 0.8151627833379484]\n",
      "Result of test: [[7, 'distance', 0.7945454545454546, 0.5772872845208974, 0.8311541781552815]]\n",
      "\n",
      "\n",
      "\n",
      "\n",
      "Using  KNN and Synthetic Minority Oversampling Technique (SMOTE) data augmentation technic\n",
      "\n",
      "\n",
      "Results of validate:\n",
      "\n",
      "[2, 'uniform', 0.6998394863563403, 0.5384012792230035, 0.7799466234666613]\n",
      "[2, 'distance', 0.6869983948635634, 0.5294880329131203, 0.7675994463152511]\n",
      "[3, 'uniform', 0.6613162118780096, 0.5202346606173311, 0.7685243197719994]\n",
      "[3, 'distance', 0.6581059390048154, 0.5141616531851464, 0.7648286373607589]\n",
      "[4, 'uniform', 0.6741573033707865, 0.5232159899245483, 0.7787578343203218]\n",
      "[4, 'distance', 0.6789727126805778, 0.5402604356737536, 0.7807198024363512]\n",
      "[5, 'uniform', 0.6548956661316212, 0.5141043119779874, 0.7718391370305606]\n",
      "[5, 'distance', 0.6565008025682183, 0.5167018584910134, 0.7703133342938748]\n",
      "[6, 'uniform', 0.6565008025682183, 0.5057611040946662, 0.7716126160332029]\n",
      "[6, 'distance', 0.6500802568218299, 0.5063327509631189, 0.7655030888154047]\n",
      "[7, 'uniform', 0.6532905296950241, 0.5117719167057431, 0.7781222502260976]\n",
      "[7, 'distance', 0.666131621187801, 0.5260622194001463, 0.7832872233311672]\n",
      "[8, 'uniform', 0.6613162118780096, 0.5238741031237778, 0.7964649742758719]\n",
      "[8, 'distance', 0.6629213483146067, 0.5325167581396617, 0.7827141366442051]\n",
      "[9, 'uniform', 0.6452648475120385, 0.5117421184718315, 0.7759275476702742]\n",
      "[9, 'distance', 0.6532905296950241, 0.520817317293198, 0.7825081847867272]\n",
      "[10, 'uniform', 0.6500802568218299, 0.5052911335623511, 0.7802202353747715]\n",
      "[10, 'distance', 0.651685393258427, 0.5150044925533829, 0.7753329420158941]\n",
      "[11, 'uniform', 0.6324237560192616, 0.49290428780666584, 0.7801102409046984]\n",
      "[11, 'distance', 0.6388443017656501, 0.5007325009696784, 0.7802897461443487]\n",
      "[12, 'uniform', 0.651685393258427, 0.5047204000848666, 0.7824172827240939]\n",
      "[12, 'distance', 0.6548956661316212, 0.5124316699892577, 0.786390610576289]\n",
      "\n",
      "\n",
      "Best validate results and params: [8, 'uniform', 0.6613162118780096, 0.5238741031237778, 0.7964649742758719]\n",
      "Result of test: [[8, 'uniform', 0.6509090909090909, 0.5035583430728752, 0.7712549069735992]]\n",
      "\n",
      "\n",
      "\n",
      "\n",
      "Using  KNN and RandomOverSampler data augmentation technic\n",
      "\n",
      "\n",
      "Results of validate:\n",
      "\n",
      "[2, 'uniform', 0.7335473515248796, 0.5328717062722736, 0.7618854956452529]\n",
      "[2, 'distance', 0.7415730337078652, 0.5384159270593273, 0.7693173571100612]\n",
      "[3, 'uniform', 0.723916532905297, 0.5320393341217913, 0.7849472115245426]\n",
      "[3, 'distance', 0.7255216693418941, 0.5332766823077637, 0.7861575841171318]\n",
      "[4, 'uniform', 0.709470304975923, 0.5146067563205893, 0.7711782013662556]\n",
      "[4, 'distance', 0.723916532905297, 0.5305512098456404, 0.7873021153899471]\n",
      "[5, 'uniform', 0.6757624398073836, 0.48591942184227693, 0.7625856292281099]\n",
      "[5, 'distance', 0.6853932584269663, 0.4970056401760319, 0.7741013939544735]\n",
      "[6, 'uniform', 0.6773675762439807, 0.4859419980964633, 0.7541714184911867]\n",
      "[6, 'distance', 0.6886035313001605, 0.4972713008575077, 0.7692612055262167]\n",
      "[7, 'uniform', 0.6725521669341894, 0.4906727218181771, 0.762603987851578]\n",
      "[7, 'distance', 0.6837881219903692, 0.5029099809781845, 0.7710379938627206]\n",
      "[8, 'uniform', 0.6757624398073836, 0.49252131046784636, 0.7527528776497152]\n",
      "[8, 'distance', 0.6853932584269663, 0.5035882615300673, 0.7711188645320399]\n",
      "[9, 'uniform', 0.6757624398073836, 0.4961967965734365, 0.7638364127354462]\n",
      "[9, 'distance', 0.6869983948635634, 0.5070195680422056, 0.7782239339252675]\n",
      "[10, 'uniform', 0.6693418940609952, 0.48015523455691744, 0.7433938080007375]\n",
      "[10, 'distance', 0.6902086677367576, 0.5099194025005814, 0.7726845875635255]\n",
      "[11, 'uniform', 0.6709470304975923, 0.4966758439925899, 0.7597872572133285]\n",
      "[11, 'distance', 0.6853932584269663, 0.5157169392496155, 0.7730577362268702]\n",
      "[12, 'uniform', 0.6902086677367576, 0.5089861025572634, 0.7769206790374945]\n",
      "[12, 'distance', 0.695024077046549, 0.5189548980189415, 0.7789510189421013]\n",
      "\n",
      "\n",
      "Best validate results and params: [4, 'distance', 0.723916532905297, 0.5305512098456404, 0.7873021153899471]\n",
      "Result of test: [[4, 'distance', 0.7254545454545455, 0.5433848664313236, 0.7932187626764813]]\n",
      "\n",
      "\n",
      "\n",
      "\n",
      "Using  KNN and BorderlineSMOTE data augmentation technic\n",
      "\n",
      "\n",
      "Results of validate:\n",
      "\n",
      "[2, 'uniform', 0.7030497592295345, 0.531723218913415, 0.7728852022789421]\n",
      "[2, 'distance', 0.6998394863563403, 0.5397047359694704, 0.7837304605200437]\n",
      "[3, 'uniform', 0.6869983948635634, 0.5300876870129683, 0.7685877360044131]\n",
      "[3, 'distance', 0.7030497592295345, 0.5524655367472353, 0.7865728938909993]\n",
      "[4, 'uniform', 0.6821829855537721, 0.519275993706309, 0.7606575685153336]\n",
      "[4, 'distance', 0.6886035313001605, 0.5297293508671221, 0.774627999959157]\n",
      "[5, 'uniform', 0.6581059390048154, 0.49214228319110614, 0.7585640949056358]\n",
      "[5, 'distance', 0.6709470304975923, 0.5107134205596946, 0.766575557208031]\n",
      "[6, 'uniform', 0.6677367576243981, 0.4983086080888824, 0.7567244105754369]\n",
      "[6, 'distance', 0.6789727126805778, 0.5152145810906574, 0.7725343851725858]\n",
      "[7, 'uniform', 0.666131621187801, 0.5055289588208519, 0.7543557575886626]\n",
      "[7, 'distance', 0.6677367576243981, 0.5046020733026575, 0.7597433287809856]\n",
      "[8, 'uniform', 0.6757624398073836, 0.51436346967986, 0.7672000398191201]\n",
      "[8, 'distance', 0.6821829855537721, 0.5237907631222616, 0.7788462870134215]\n",
      "[9, 'uniform', 0.6629213483146067, 0.5088578600033078, 0.7743858005028594]\n",
      "[9, 'distance', 0.6677367576243981, 0.5089211879390876, 0.7675758392123279]\n",
      "[10, 'uniform', 0.6773675762439807, 0.5133511142916307, 0.7857864904071059]\n",
      "[10, 'distance', 0.6789727126805778, 0.5229384205052927, 0.7785781931992053]\n",
      "[11, 'uniform', 0.6597110754414125, 0.5015690190481139, 0.7776097745015527]\n",
      "[11, 'distance', 0.6677367576243981, 0.5120080351970115, 0.7754200470780176]\n",
      "[12, 'uniform', 0.6629213483146067, 0.49604359300401873, 0.7793147022805184]\n",
      "[12, 'distance', 0.6709470304975923, 0.515984119613418, 0.7864203924109958]\n",
      "\n",
      "\n",
      "Best validate results and params: [3, 'distance', 0.7030497592295345, 0.5524655367472353, 0.7865728938909993]\n",
      "Result of test: [[3, 'distance', 0.68, 0.5202323237317935, 0.7613397518475828]]\n",
      "\n",
      "\n",
      "\n",
      "\n",
      "Using  KNN and ADASYN data augmentation technic\n",
      "\n",
      "\n",
      "Results of validate:\n",
      "\n",
      "[2, 'uniform', 0.6869983948635634, 0.524429050117091, 0.793705201907505]\n",
      "[2, 'distance', 0.6821829855537721, 0.5356727788361428, 0.7887467221267745]\n",
      "[3, 'uniform', 0.6581059390048154, 0.5252712500279415, 0.7808837169164544]\n",
      "[3, 'distance', 0.6629213483146067, 0.5290945609518094, 0.7805838115560713]\n",
      "[4, 'uniform', 0.666131621187801, 0.5217708251685554, 0.7763950369951483]\n",
      "[4, 'distance', 0.6597110754414125, 0.5180222642737403, 0.7752660639403898]\n",
      "[5, 'uniform', 0.651685393258427, 0.5252020497948404, 0.7815094521695234]\n",
      "[5, 'distance', 0.651685393258427, 0.5187199540191166, 0.7745482876654008]\n",
      "[6, 'uniform', 0.6548956661316212, 0.5216483013142782, 0.7732337748594068]\n",
      "[6, 'distance', 0.651685393258427, 0.5185203882760638, 0.7707759382540496]\n",
      "[7, 'uniform', 0.6324237560192616, 0.4994810455411005, 0.758382652950887]\n",
      "[7, 'distance', 0.6420545746388443, 0.5100554083662006, 0.7641472384129251]\n",
      "[8, 'uniform', 0.6356340288924559, 0.4986566685055861, 0.7753008371937347]\n",
      "[8, 'distance', 0.6340288924558587, 0.49852267275748774, 0.763992344500308]\n",
      "[9, 'uniform', 0.6211878009630819, 0.4903617346719897, 0.7658651580786001]\n",
      "[9, 'distance', 0.6324237560192616, 0.5014839240242297, 0.767383097500303]\n",
      "[10, 'uniform', 0.6356340288924559, 0.49695944751644905, 0.774495629957178]\n",
      "[10, 'distance', 0.6276083467094703, 0.497847161038562, 0.7650199483689275]\n",
      "[11, 'uniform', 0.622792937399679, 0.4942365723913239, 0.7646641935121239]\n",
      "[11, 'distance', 0.6324237560192616, 0.5027687583883378, 0.7716691781415086]\n",
      "[12, 'uniform', 0.6163723916532905, 0.48068089603670516, 0.7530731040387789]\n",
      "[12, 'distance', 0.6243980738362761, 0.49441742478702394, 0.7669730135210351]\n",
      "\n",
      "\n",
      "Best validate results and params: [2, 'uniform', 0.6869983948635634, 0.524429050117091, 0.793705201907505]\n",
      "Result of test: [[2, 'uniform', 0.7072727272727273, 0.5616973566714856, 0.7993470067041465]]\n",
      "\n",
      "\n",
      "\n",
      "\n"
     ]
    }
   ],
   "source": [
    "from sklearn.neighbors import KNeighborsClassifier\n",
    "\n",
    "getResults(\"KNN\", \"Nothing\", x_train_final, y_train_final, x_val, y_val, x_test, y_test)\n",
    "getResults(\"KNN\", \"Synthetic Minority Oversampling Technique (SMOTE)\",  x_train_SMOTE, y_train_SMOTE, x_val, y_val, x_test, y_test)\n",
    "getResults(\"KNN\", \"RandomOverSampler\", x_train_ROV, y_train_ROV, x_val, y_val, x_test, y_test)\n",
    "getResults(\"KNN\", \"BorderlineSMOTE\",  x_train_BLM, y_train_BLM, x_val, y_val, x_test, y_test)\n",
    "getResults(\"KNN\", \"ADASYN\", x_train_ADASYN, y_train_ADASYN, x_val, y_val, x_test, y_test)"
   ]
  },
  {
   "cell_type": "markdown",
   "id": "9cd1aa21",
   "metadata": {
    "papermill": {
     "duration": 0.267648,
     "end_time": "2022-06-02T03:49:51.944142",
     "exception": false,
     "start_time": "2022-06-02T03:49:51.676494",
     "status": "completed"
    },
    "tags": []
   },
   "source": [
    "# Decision Tree"
   ]
  },
  {
   "cell_type": "code",
   "execution_count": 24,
   "id": "24007a80",
   "metadata": {
    "execution": {
     "iopub.execute_input": "2022-06-02T03:49:52.472162Z",
     "iopub.status.busy": "2022-06-02T03:49:52.471780Z",
     "iopub.status.idle": "2022-06-02T04:01:42.191028Z",
     "shell.execute_reply": "2022-06-02T04:01:42.189820Z"
    },
    "papermill": {
     "duration": 709.985787,
     "end_time": "2022-06-02T04:01:42.193459",
     "exception": false,
     "start_time": "2022-06-02T03:49:52.207672",
     "status": "completed"
    },
    "tags": []
   },
   "outputs": [
    {
     "name": "stdout",
     "output_type": "stream",
     "text": [
      "Using  Decision Tree and Nothing data augmentation technic\n",
      "\n",
      "\n",
      "Results of validate:\n",
      "\n",
      "[2, 'gini', 0.6886035313001605, 0.29884751392289083, 0.598690089660719]\n",
      "[2, 'entropy', 0.666131621187801, 0.3070299894284602, 0.635505816875314]\n",
      "[3, 'gini', 0.7191011235955056, 0.3647509300058491, 0.7277074257927261]\n",
      "[3, 'entropy', 0.7126805778491172, 0.31590713208360266, 0.7388398131140295]\n",
      "[4, 'gini', 0.723916532905297, 0.37901475226130477, 0.7598584175754937]\n",
      "[4, 'entropy', 0.7142857142857143, 0.37395560635087555, 0.74316533155997]\n",
      "[5, 'gini', 0.7303370786516854, 0.4138827585643418, 0.7645447716276053]\n",
      "[5, 'entropy', 0.7255216693418941, 0.4539123638270489, 0.7679669437749028]\n",
      "[6, 'gini', 0.7271268057784912, 0.4667470325756827, 0.7486628660822505]\n",
      "[6, 'entropy', 0.6966292134831461, 0.44320362383562084, 0.7312566481813939]\n",
      "[7, 'gini', 0.7174959871589085, 0.47321109197925626, 0.7314944510289839]\n",
      "[7, 'entropy', 0.6934189406099518, 0.4475488285560053, 0.7171349943245384]\n",
      "[8, 'gini', 0.7287319422150883, 0.4942573342938673, 0.7375989857959517]\n",
      "[8, 'entropy', 0.6789727126805778, 0.44053778459612725, 0.7465592169875331]\n",
      "[9, 'gini', 0.7046548956661316, 0.4625150724961801, 0.7146505370737304]\n",
      "[9, 'entropy', 0.6581059390048154, 0.41419567083059083, 0.7234588779429294]\n",
      "[10, 'gini', 0.7078651685393258, 0.4822933231826264, 0.7376946462138265]\n",
      "[10, 'entropy', 0.6565008025682183, 0.4189114356704205, 0.7131998458490971]\n",
      "\n",
      "\n",
      "Best validate results and params: [5, 'entropy', 0.7255216693418941, 0.4539123638270489, 0.7679669437749028]\n",
      "Result of test: [[5, 'entropy', 0.7127272727272728, 0.40922295488586524, 0.7444571344867286]]\n",
      "\n",
      "\n",
      "\n",
      "\n",
      "Using  Decision Tree and Synthetic Minority Oversampling Technique (SMOTE) data augmentation technic\n",
      "\n",
      "\n",
      "Results of validate:\n",
      "\n",
      "[2, 'gini', 0.449438202247191, 0.26563272329813065, 0.6070245719317493]\n",
      "[2, 'entropy', 0.4767255216693419, 0.28045849013898955, 0.7028655154189565]\n",
      "[3, 'gini', 0.5152487961476726, 0.39557167257676473, 0.583032028558048]\n",
      "[3, 'entropy', 0.5730337078651685, 0.3729941834773878, 0.7381977938016331]\n",
      "[4, 'gini', 0.5569823434991974, 0.40106967722225384, 0.6487145628488484]\n",
      "[4, 'entropy', 0.565008025682183, 0.4106091093828554, 0.7135328879231566]\n",
      "[5, 'gini', 0.5778491171749599, 0.42379971419153206, 0.6871407567414158]\n",
      "[5, 'entropy', 0.5682182985553772, 0.42245305030720204, 0.7200209722118194]\n",
      "[6, 'gini', 0.5457463884430177, 0.40653622921589455, 0.645874905976385]\n",
      "[6, 'entropy', 0.5971107544141252, 0.44583208045496053, 0.7249589856860741]\n",
      "[7, 'gini', 0.6260032102728732, 0.471387574288536, 0.6841306214760072]\n",
      "[7, 'entropy', 0.6195826645264848, 0.4693354585907967, 0.7469139670405414]\n",
      "[8, 'gini', 0.6308186195826645, 0.46387805103752494, 0.7206364935192049]\n",
      "[8, 'entropy', 0.6436597110754414, 0.47920575470710025, 0.7320604201785712]\n",
      "[9, 'gini', 0.6308186195826645, 0.451029355412516, 0.7042498541614581]\n",
      "[9, 'entropy', 0.666131621187801, 0.49405962993304503, 0.7431227810273046]\n",
      "[10, 'gini', 0.6243980738362761, 0.4570502260564372, 0.6838774403745498]\n",
      "[10, 'entropy', 0.6548956661316212, 0.47533370850751533, 0.7192687797634287]\n",
      "\n",
      "\n",
      "Best validate results and params: [7, 'entropy', 0.6195826645264848, 0.4693354585907967, 0.7469139670405414]\n",
      "Result of test: [[7, 'entropy', 0.6181818181818182, 0.45118236616688623, 0.7008988459023098]]\n",
      "\n",
      "\n",
      "\n",
      "\n",
      "Using  Decision Tree and RandomOverSampler data augmentation technic\n",
      "\n",
      "\n",
      "Results of validate:\n",
      "\n",
      "[2, 'gini', 0.41252006420545745, 0.2470752423484941, 0.4607471524029201]\n",
      "[2, 'entropy', 0.5232744783306581, 0.27762130743479385, 0.6911545241974635]\n",
      "[3, 'gini', 0.5457463884430177, 0.36200617943664076, 0.6429105672377255]\n",
      "[3, 'entropy', 0.5842696629213483, 0.4283589656126077, 0.72236173144935]\n",
      "[4, 'gini', 0.5762439807383628, 0.3891203555587533, 0.6967539634116524]\n",
      "[4, 'entropy', 0.593900481540931, 0.42457308098936475, 0.7302801473291693]\n",
      "[5, 'gini', 0.6067415730337079, 0.4433707573678209, 0.6732914670713368]\n",
      "[5, 'entropy', 0.608346709470305, 0.4208429844398888, 0.6950378145041085]\n",
      "[6, 'gini', 0.6260032102728732, 0.4583949763775525, 0.6969977268798394]\n",
      "[6, 'entropy', 0.5906902086677368, 0.4054704603568647, 0.6551904672153464]\n",
      "[7, 'gini', 0.6324237560192616, 0.45808939611975896, 0.7103563266245294]\n",
      "[7, 'entropy', 0.5874799357945425, 0.3969190087937863, 0.6523882037034885]\n",
      "[8, 'gini', 0.637239165329053, 0.4641209155696829, 0.6892577862771192]\n",
      "[8, 'entropy', 0.608346709470305, 0.40610180078811114, 0.6803217751775743]\n",
      "[9, 'gini', 0.6452648475120385, 0.46907535981429016, 0.6907527211994394]\n",
      "[9, 'entropy', 0.6276083467094703, 0.4202685913943777, 0.6519945760102666]\n",
      "[10, 'gini', 0.6629213483146067, 0.4749822079557854, 0.7157191968953235]\n",
      "[10, 'entropy', 0.6532905296950241, 0.435017689629028, 0.6926274774387562]\n",
      "\n",
      "\n",
      "Best validate results and params: [4, 'entropy', 0.593900481540931, 0.42457308098936475, 0.7302801473291693]\n",
      "Result of test: [[4, 'entropy', 0.5618181818181818, 0.3832343327170914, 0.6810390038107068]]\n",
      "\n",
      "\n",
      "\n",
      "\n",
      "Using  Decision Tree and BorderlineSMOTE data augmentation technic\n",
      "\n",
      "\n",
      "Results of validate:\n",
      "\n",
      "[2, 'gini', 0.45264847512038525, 0.272990077254141, 0.597797429159177]\n",
      "[2, 'entropy', 0.5601926163723917, 0.3152395199507217, 0.7174201837883383]\n",
      "[3, 'gini', 0.5280898876404494, 0.39285857670362284, 0.6189704471053777]\n",
      "[3, 'entropy', 0.6115569823434992, 0.44087324923426346, 0.7293561380503188]\n",
      "[4, 'gini', 0.521669341894061, 0.39658847161547617, 0.6192451429089085]\n",
      "[4, 'entropy', 0.6388443017656501, 0.4792721912616848, 0.7448916404532511]\n",
      "[5, 'gini', 0.6131621187800963, 0.44579990056824526, 0.70350714851629]\n",
      "[5, 'entropy', 0.6276083467094703, 0.461550193085975, 0.7757472880142164]\n",
      "[6, 'gini', 0.6179775280898876, 0.4471345311869845, 0.678521393232954]\n",
      "[6, 'entropy', 0.6436597110754414, 0.47949299858130345, 0.7591904281101514]\n",
      "[7, 'gini', 0.637239165329053, 0.45258222667993353, 0.7344543511814621]\n",
      "[7, 'entropy', 0.6500802568218299, 0.4868535088525829, 0.7282135489324989]\n",
      "[8, 'gini', 0.637239165329053, 0.45018935115891756, 0.7097551172592438]\n",
      "[8, 'entropy', 0.6308186195826645, 0.4479109795863289, 0.7360777434386915]\n",
      "[9, 'gini', 0.6243980738362761, 0.4356432572637104, 0.6963488175274635]\n",
      "[9, 'entropy', 0.6324237560192616, 0.47625687923829646, 0.6945544435644515]\n",
      "[10, 'gini', 0.6388443017656501, 0.44375875947903365, 0.7020517881852313]\n",
      "[10, 'entropy', 0.6484751203852327, 0.47083431046141494, 0.723574953592611]\n",
      "\n",
      "\n",
      "Best validate results and params: [5, 'entropy', 0.6276083467094703, 0.461550193085975, 0.7757472880142164]\n",
      "Result of test: [[5, 'entropy', 0.6381818181818182, 0.46577747447669715, 0.7513335235037596]]\n",
      "\n",
      "\n",
      "\n",
      "\n",
      "Using  Decision Tree and ADASYN data augmentation technic\n",
      "\n",
      "\n",
      "Results of validate:\n",
      "\n",
      "[2, 'gini', 0.463884430176565, 0.2741514334576961, 0.6244947701860553]\n",
      "[2, 'entropy', 0.478330658105939, 0.277985816950104, 0.7457649151502087]\n",
      "[3, 'gini', 0.5345104333868379, 0.40124096907233914, 0.5917991506857968]\n",
      "[3, 'entropy', 0.5858747993579454, 0.40046946669800176, 0.7609447303303901]\n",
      "[4, 'gini', 0.5553772070626003, 0.4029257952370653, 0.6016203477751593]\n",
      "[4, 'entropy', 0.6147672552166934, 0.45291132830178116, 0.7870177680509485]\n",
      "[5, 'gini', 0.593900481540931, 0.4638770601840182, 0.6273873335687961]\n",
      "[5, 'entropy', 0.6019261637239165, 0.4214485536233923, 0.7421846072816722]\n",
      "[6, 'gini', 0.5971107544141252, 0.4342456664593291, 0.6516020794929682]\n",
      "[6, 'entropy', 0.5858747993579454, 0.42047677002871264, 0.6786890137157298]\n",
      "[7, 'gini', 0.6260032102728732, 0.47201489643255756, 0.6680415939353996]\n",
      "[7, 'entropy', 0.6131621187800963, 0.4332677902423125, 0.7075750857288092]\n",
      "[8, 'gini', 0.6404494382022472, 0.4893830112531162, 0.6870215206173118]\n",
      "[8, 'entropy', 0.6179775280898876, 0.4480308435867942, 0.7280790768311439]\n",
      "[9, 'gini', 0.6179775280898876, 0.46060969037585214, 0.6895086607691586]\n",
      "[9, 'entropy', 0.6195826645264848, 0.4491853883256308, 0.6992291478929188]\n",
      "[10, 'gini', 0.6292134831460674, 0.46198522199499426, 0.6631057160158286]\n",
      "[10, 'entropy', 0.6276083467094703, 0.4374432713474029, 0.7208958314842756]\n",
      "\n",
      "\n",
      "Best validate results and params: [4, 'entropy', 0.6147672552166934, 0.45291132830178116, 0.7870177680509485]\n",
      "Result of test: [[4, 'entropy', 0.5945454545454546, 0.40919867910205543, 0.7121532406348711]]\n",
      "\n",
      "\n",
      "\n",
      "\n"
     ]
    }
   ],
   "source": [
    "from sklearn.tree import DecisionTreeClassifier\n",
    "\n",
    "getResults(\"Decision Tree\", \"Nothing\", x_train_final, y_train_final, x_val, y_val, x_test, y_test)\n",
    "getResults(\"Decision Tree\", \"Synthetic Minority Oversampling Technique (SMOTE)\", x_train_SMOTE, y_train_SMOTE, x_val, y_val, x_test, y_test)\n",
    "getResults(\"Decision Tree\", \"RandomOverSampler\", x_train_ROV, y_train_ROV, x_val, y_val, x_test, y_test)\n",
    "getResults(\"Decision Tree\", \"BorderlineSMOTE\", x_train_BLM, y_train_BLM, x_val, y_val, x_test, y_test)\n",
    "getResults(\"Decision Tree\", \"ADASYN\", x_train_ADASYN, y_train_ADASYN, x_val, y_val, x_test, y_test)"
   ]
  },
  {
   "cell_type": "markdown",
   "id": "806e0e79",
   "metadata": {
    "papermill": {
     "duration": 0.265955,
     "end_time": "2022-06-02T04:01:42.729462",
     "exception": false,
     "start_time": "2022-06-02T04:01:42.463507",
     "status": "completed"
    },
    "tags": []
   },
   "source": [
    "# Support Vector Machines (SVM)"
   ]
  },
  {
   "cell_type": "code",
   "execution_count": 25,
   "id": "10cc61bc",
   "metadata": {
    "execution": {
     "iopub.execute_input": "2022-06-02T04:01:43.332847Z",
     "iopub.status.busy": "2022-06-02T04:01:43.332469Z",
     "iopub.status.idle": "2022-06-02T04:15:58.080239Z",
     "shell.execute_reply": "2022-06-02T04:15:58.078899Z"
    },
    "papermill": {
     "duration": 855.081237,
     "end_time": "2022-06-02T04:15:58.082608",
     "exception": false,
     "start_time": "2022-06-02T04:01:43.001371",
     "status": "completed"
    },
    "tags": []
   },
   "outputs": [
    {
     "name": "stdout",
     "output_type": "stream",
     "text": [
      "Using  SVM and Nothing data augmentation technic\n",
      "\n",
      "\n",
      "Results of validate:\n",
      "\n",
      "[10, 'linear', 0.797752808988764, 0.6133721376915101, 0.8721977549986858]\n",
      "[10, 'poly', 0.8218298555377207, 0.6326302773850545, 0.880552182527002]\n",
      "[10, 'rbf', 0.8298555377207063, 0.6462966826650732, 0.8888822522695164]\n",
      "[10, 'sigmoid', 0.7640449438202247, 0.5232992603673232, 0.8265153637416534]\n",
      "[100, 'linear', 0.7913322632423756, 0.5947637740861388, 0.8635410058425639]\n",
      "[100, 'poly', 0.8138041733547352, 0.6291580935216347, 0.8870104086648326]\n",
      "[100, 'rbf', 0.8218298555377207, 0.6499814040330121, 0.8844698779924924]\n",
      "[100, 'sigmoid', 0.7367576243980738, 0.5299184126112715, 0.785128020047791]\n",
      "[1000, 'linear', 0.797752808988764, 0.6015285536630847, 0.8564713123105265]\n",
      "[1000, 'poly', 0.8057784911717496, 0.61139051090243, 0.8747685266851708]\n",
      "[1000, 'rbf', 0.8234349919743178, 0.6495695090664, 0.8829165527978091]\n",
      "[1000, 'sigmoid', 0.7223113964686998, 0.514185966559895, 0.7913669377636672]\n",
      "\n",
      "\n",
      "Best validate results and params: [10, 'rbf', 0.8298555377207063, 0.6462966826650732, 0.8888822522695164]\n",
      "Result of test: [[10, 'rbf', 0.8236363636363636, 0.6322155859959131, 0.8664879345049742]]\n",
      "\n",
      "\n",
      "\n",
      "\n",
      "Using  SVM and Synthetic Minority Oversampling Technique (SMOTE) data augmentation technic\n",
      "\n",
      "\n",
      "Results of validate:\n",
      "\n",
      "[10, 'linear', 0.7897271268057785, 0.6051013570221782, 0.8578550659680524]\n",
      "[10, 'poly', 0.8009630818619583, 0.6263691212829288, 0.880071587992097]\n",
      "[10, 'rbf', 0.8089887640449438, 0.6309418533662356, 0.8786702414260953]\n",
      "[10, 'sigmoid', 0.6837881219903692, 0.4979713740366263, 0.8109780779865174]\n",
      "[100, 'linear', 0.7881219903691814, 0.6120224475524088, 0.8554050939497722]\n",
      "[100, 'poly', 0.7945425361155698, 0.6118388480268455, 0.8766957968535536]\n",
      "[100, 'rbf', 0.8073836276083467, 0.6216554735323871, 0.8770076422562603]\n",
      "[100, 'sigmoid', 0.6677367576243981, 0.46591167798015903, 0.769725848704708]\n",
      "[1000, 'linear', 0.7704654895666132, 0.5782944176060119, 0.8464731097723102]\n",
      "[1000, 'poly', 0.7993579454253612, 0.6129507681643557, 0.8826080646467498]\n",
      "[1000, 'rbf', 0.8025682182985554, 0.606715999326093, 0.8754716422403901]\n",
      "[1000, 'sigmoid', 0.6581059390048154, 0.45330905272700617, 0.7514095035074545]\n",
      "\n",
      "\n",
      "Best validate results and params: [1000, 'poly', 0.7993579454253612, 0.6129507681643557, 0.8826080646467498]\n",
      "Result of test: [[1000, 'poly', 0.7909090909090909, 0.6005942088122285, 0.8505030109291797]]\n",
      "\n",
      "\n",
      "\n",
      "\n",
      "Using  SVM and RandomOverSampler data augmentation technic\n",
      "\n",
      "\n",
      "Results of validate:\n",
      "\n",
      "[10, 'linear', 0.7849117174959872, 0.5852487135989013, 0.8583683643146001]\n",
      "[10, 'poly', 0.8089887640449438, 0.6260496538581586, 0.8888111899457928]\n",
      "[10, 'rbf', 0.8089887640449438, 0.630794061781643, 0.8834715381258184]\n",
      "[10, 'sigmoid', 0.695024077046549, 0.5243909643071858, 0.7740816551410951]\n",
      "[100, 'linear', 0.7945425361155698, 0.6102833977817286, 0.8619036591014358]\n",
      "[100, 'poly', 0.8138041733547352, 0.6195092000699478, 0.8900548712535418]\n",
      "[100, 'rbf', 0.8218298555377207, 0.6484161357369223, 0.8869424616863562]\n",
      "[100, 'sigmoid', 0.6966292134831461, 0.5204650071632422, 0.7960984494145193]\n",
      "[1000, 'linear', 0.7929373996789727, 0.6030586912708676, 0.8580236426993946]\n",
      "[1000, 'poly', 0.8009630818619583, 0.5800084689397429, 0.8724901737194508]\n",
      "[1000, 'rbf', 0.8089887640449438, 0.5986292980878083, 0.8776021244890654]\n",
      "[1000, 'sigmoid', 0.7014446227929374, 0.5305245702073556, 0.7934867033463434]\n",
      "\n",
      "\n",
      "Best validate results and params: [100, 'poly', 0.8138041733547352, 0.6195092000699478, 0.8900548712535418]\n",
      "Result of test: [[100, 'poly', 0.8072727272727273, 0.613307868888857, 0.8640562136384123]]\n",
      "\n",
      "\n",
      "\n",
      "\n",
      "Using  SVM and BorderlineSMOTE data augmentation technic\n",
      "\n",
      "\n",
      "Results of validate:\n",
      "\n",
      "[10, 'linear', 0.8025682182985554, 0.6303743731561775, 0.8718419411203411]\n",
      "[10, 'poly', 0.8057784911717496, 0.6297869253981786, 0.885690546336484]\n",
      "[10, 'rbf', 0.8170144462279294, 0.6454782266983803, 0.8882220397501713]\n",
      "[10, 'sigmoid', 0.709470304975923, 0.5239658920083098, 0.8066836012959555]\n",
      "[100, 'linear', 0.7929373996789727, 0.6054664447924611, 0.8579200813788465]\n",
      "[100, 'poly', 0.8073836276083467, 0.6298597964633296, 0.8795535943005457]\n",
      "[100, 'rbf', 0.8170144462279294, 0.6430682046631866, 0.8794684953599834]\n",
      "[100, 'sigmoid', 0.7030497592295345, 0.5132614326731885, 0.7686567275471292]\n",
      "[1000, 'linear', 0.7640449438202247, 0.5627244411772679, 0.8370131526063816]\n",
      "[1000, 'poly', 0.7961476725521669, 0.5891976804094903, 0.8756440231218412]\n",
      "[1000, 'rbf', 0.7993579454253612, 0.5911906053210401, 0.8736287476499884]\n",
      "[1000, 'sigmoid', 0.7030497592295345, 0.5085766829960711, 0.7678412101620407]\n",
      "\n",
      "\n",
      "Best validate results and params: [10, 'rbf', 0.8170144462279294, 0.6454782266983803, 0.8882220397501713]\n",
      "Result of test: [[10, 'rbf', 0.8181818181818182, 0.6476579892766796, 0.8775539116971433]]\n",
      "\n",
      "\n",
      "\n",
      "\n",
      "Using  SVM and ADASYN data augmentation technic\n",
      "\n",
      "\n",
      "Results of validate:\n",
      "\n",
      "[10, 'linear', 0.7897271268057785, 0.6109657950743257, 0.860391039544134]\n",
      "[10, 'poly', 0.8089887640449438, 0.6292905685978641, 0.8908448985828886]\n",
      "[10, 'rbf', 0.8041733547351525, 0.6218856169946276, 0.8827574955032231]\n",
      "[10, 'sigmoid', 0.7142857142857143, 0.5351185609336852, 0.8173473548389042]\n",
      "[100, 'linear', 0.7897271268057785, 0.6148701400614942, 0.8627678287182489]\n",
      "[100, 'poly', 0.8025682182985554, 0.6128745394192159, 0.8742565328198811]\n",
      "[100, 'rbf', 0.8170144462279294, 0.6434590020800203, 0.879465004885449]\n",
      "[100, 'sigmoid', 0.6821829855537721, 0.49757798671969855, 0.7287027818223325]\n",
      "[1000, 'linear', 0.7752808988764045, 0.5829243720467965, 0.8420648024534263]\n",
      "[1000, 'poly', 0.7881219903691814, 0.5977175347288304, 0.8674156407793688]\n",
      "[1000, 'rbf', 0.8105939004815409, 0.6288283485884685, 0.8770655124395988]\n",
      "[1000, 'sigmoid', 0.680577849117175, 0.49481678407144747, 0.7266737076317187]\n",
      "\n",
      "\n",
      "Best validate results and params: [10, 'poly', 0.8089887640449438, 0.6292905685978641, 0.8908448985828886]\n",
      "Result of test: [[10, 'poly', 0.82, 0.6498264503108677, 0.8806968543220792]]\n",
      "\n",
      "\n",
      "\n",
      "\n"
     ]
    }
   ],
   "source": [
    "from sklearn import svm\n",
    "\n",
    "getResults(\"SVM\", \"Nothing\", x_train_final, y_train_final, x_val, y_val, x_test, y_test)\n",
    "getResults(\"SVM\", \"Synthetic Minority Oversampling Technique (SMOTE)\",  x_train_SMOTE, y_train_SMOTE, x_val, y_val, x_test, y_test)\n",
    "getResults(\"SVM\", \"RandomOverSampler\", x_train_ROV, y_train_ROV, x_val, y_val, x_test, y_test)\n",
    "getResults(\"SVM\", \"BorderlineSMOTE\",  x_train_BLM, y_train_BLM, x_val, y_val, x_test, y_test)\n",
    "getResults(\"SVM\", \"ADASYN\", x_train_ADASYN, y_train_ADASYN, x_val, y_val, x_test, y_test)"
   ]
  }
 ],
 "metadata": {
  "kernelspec": {
   "display_name": "Python 3",
   "language": "python",
   "name": "python3"
  },
  "language_info": {
   "codemirror_mode": {
    "name": "ipython",
    "version": 3
   },
   "file_extension": ".py",
   "mimetype": "text/x-python",
   "name": "python",
   "nbconvert_exporter": "python",
   "pygments_lexer": "ipython3",
   "version": "3.7.12"
  },
  "papermill": {
   "default_parameters": {},
   "duration": 2948.132339,
   "end_time": "2022-06-02T04:16:01.322024",
   "environment_variables": {},
   "exception": null,
   "input_path": "__notebook__.ipynb",
   "output_path": "__notebook__.ipynb",
   "parameters": {},
   "start_time": "2022-06-02T03:26:53.189685",
   "version": "2.3.4"
  }
 },
 "nbformat": 4,
 "nbformat_minor": 5
}
