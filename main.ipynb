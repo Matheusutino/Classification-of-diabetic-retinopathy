{
 "cells": [
  {
   "cell_type": "markdown",
   "id": "c7be6e0c",
   "metadata": {
    "papermill": {
     "duration": 0.027251,
     "end_time": "2022-07-03T16:22:42.286728",
     "exception": false,
     "start_time": "2022-07-03T16:22:42.259477",
     "status": "completed"
    },
    "tags": []
   },
   "source": [
    "# Grupo:\n",
    "\n",
    "#### Alessandro de Freitas Guerreiro - 11233891\n",
    "#### Matheus Yasuo Ribeiro Utino - 11233689\n",
    "#### Vinícius Silva Montanari - 11233709\n",
    "\n",
    "## Tema: Classificação por imagens da patologia retinopatia diabética utilizando técnicas de aprendizado de máquina\n",
    "### Universidade de São Paulo\n",
    "### Instituto de Ciências Matemáticas e de Computação (ICMC)\n",
    "### SCC0276 - Aprendizado de Máquina (2022)"
   ]
  },
  {
   "cell_type": "code",
   "execution_count": 1,
   "id": "053dfb74",
   "metadata": {
    "_cell_guid": "b1076dfc-b9ad-4769-8c92-a6c4dae69d19",
    "_uuid": "8f2839f25d086af736a60e9eeb907d3b93b6e0e5",
    "execution": {
     "iopub.execute_input": "2022-07-03T16:22:42.336539Z",
     "iopub.status.busy": "2022-07-03T16:22:42.335850Z",
     "iopub.status.idle": "2022-07-03T16:22:49.544056Z",
     "shell.execute_reply": "2022-07-03T16:22:49.543076Z"
    },
    "papermill": {
     "duration": 7.231419,
     "end_time": "2022-07-03T16:22:49.547110",
     "exception": false,
     "start_time": "2022-07-03T16:22:42.315691",
     "status": "completed"
    },
    "tags": []
   },
   "outputs": [],
   "source": [
    "# Standard dependencies\n",
    "import cv2\n",
    "import time\n",
    "import scipy as sp\n",
    "import numpy as np\n",
    "import random as rn\n",
    "import pandas as pd\n",
    "from tqdm import tqdm\n",
    "from PIL import Image\n",
    "from functools import partial\n",
    "import matplotlib.pyplot as plt\n",
    "\n",
    "# Machine Learning\n",
    "import tensorflow as tf\n",
    "import keras\n",
    "from keras_preprocessing.image import ImageDataGenerator\n",
    "from sklearn.metrics import cohen_kappa_score"
   ]
  },
  {
   "cell_type": "markdown",
   "id": "0b982ed1",
   "metadata": {
    "papermill": {
     "duration": 0.010514,
     "end_time": "2022-07-03T16:22:49.569350",
     "exception": false,
     "start_time": "2022-07-03T16:22:49.558836",
     "status": "completed"
    },
    "tags": []
   },
   "source": [
    "# Data Analysis"
   ]
  },
  {
   "cell_type": "code",
   "execution_count": 2,
   "id": "5498523f",
   "metadata": {
    "execution": {
     "iopub.execute_input": "2022-07-03T16:22:49.592868Z",
     "iopub.status.busy": "2022-07-03T16:22:49.591652Z",
     "iopub.status.idle": "2022-07-03T16:22:49.597498Z",
     "shell.execute_reply": "2022-07-03T16:22:49.596511Z"
    },
    "papermill": {
     "duration": 0.019795,
     "end_time": "2022-07-03T16:22:49.599575",
     "exception": false,
     "start_time": "2022-07-03T16:22:49.579780",
     "status": "completed"
    },
    "tags": []
   },
   "outputs": [],
   "source": [
    "#Define path of files\n",
    "\n",
    "KAGGLE_DIR = '../input/aptos2019-blindness-detection/'\n",
    "TRAIN_DF_PATH = KAGGLE_DIR + \"train.csv\"\n",
    "TRAIN_IMG_PATH = KAGGLE_DIR + \"train_images/\""
   ]
  },
  {
   "cell_type": "code",
   "execution_count": 3,
   "id": "2e2aa3e7",
   "metadata": {
    "execution": {
     "iopub.execute_input": "2022-07-03T16:22:49.622785Z",
     "iopub.status.busy": "2022-07-03T16:22:49.621755Z",
     "iopub.status.idle": "2022-07-03T16:22:49.648729Z",
     "shell.execute_reply": "2022-07-03T16:22:49.647650Z"
    },
    "papermill": {
     "duration": 0.040964,
     "end_time": "2022-07-03T16:22:49.650981",
     "exception": false,
     "start_time": "2022-07-03T16:22:49.610017",
     "status": "completed"
    },
    "tags": []
   },
   "outputs": [],
   "source": [
    "#Load csv and convert to pandas dataframe\n",
    "\n",
    "df = pd.read_csv(TRAIN_DF_PATH)\n",
    "df['id_code'] = df['id_code'] + \".png\""
   ]
  },
  {
   "cell_type": "code",
   "execution_count": 4,
   "id": "d4a9d482",
   "metadata": {
    "execution": {
     "iopub.execute_input": "2022-07-03T16:22:49.675132Z",
     "iopub.status.busy": "2022-07-03T16:22:49.674277Z",
     "iopub.status.idle": "2022-07-03T16:22:49.690960Z",
     "shell.execute_reply": "2022-07-03T16:22:49.689902Z"
    },
    "papermill": {
     "duration": 0.032966,
     "end_time": "2022-07-03T16:22:49.695432",
     "exception": false,
     "start_time": "2022-07-03T16:22:49.662466",
     "status": "completed"
    },
    "tags": []
   },
   "outputs": [
    {
     "name": "stdout",
     "output_type": "stream",
     "text": [
      "Train dataset size : (3662, 2) \n",
      "\n"
     ]
    },
    {
     "data": {
      "text/html": [
       "<div>\n",
       "<style scoped>\n",
       "    .dataframe tbody tr th:only-of-type {\n",
       "        vertical-align: middle;\n",
       "    }\n",
       "\n",
       "    .dataframe tbody tr th {\n",
       "        vertical-align: top;\n",
       "    }\n",
       "\n",
       "    .dataframe thead th {\n",
       "        text-align: right;\n",
       "    }\n",
       "</style>\n",
       "<table border=\"1\" class=\"dataframe\">\n",
       "  <thead>\n",
       "    <tr style=\"text-align: right;\">\n",
       "      <th></th>\n",
       "      <th>id_code</th>\n",
       "      <th>diagnosis</th>\n",
       "    </tr>\n",
       "  </thead>\n",
       "  <tbody>\n",
       "    <tr>\n",
       "      <th>0</th>\n",
       "      <td>000c1434d8d7.png</td>\n",
       "      <td>2</td>\n",
       "    </tr>\n",
       "    <tr>\n",
       "      <th>1</th>\n",
       "      <td>001639a390f0.png</td>\n",
       "      <td>4</td>\n",
       "    </tr>\n",
       "    <tr>\n",
       "      <th>2</th>\n",
       "      <td>0024cdab0c1e.png</td>\n",
       "      <td>1</td>\n",
       "    </tr>\n",
       "    <tr>\n",
       "      <th>3</th>\n",
       "      <td>002c21358ce6.png</td>\n",
       "      <td>0</td>\n",
       "    </tr>\n",
       "    <tr>\n",
       "      <th>4</th>\n",
       "      <td>005b95c28852.png</td>\n",
       "      <td>0</td>\n",
       "    </tr>\n",
       "  </tbody>\n",
       "</table>\n",
       "</div>"
      ],
      "text/plain": [
       "            id_code  diagnosis\n",
       "0  000c1434d8d7.png          2\n",
       "1  001639a390f0.png          4\n",
       "2  0024cdab0c1e.png          1\n",
       "3  002c21358ce6.png          0\n",
       "4  005b95c28852.png          0"
      ]
     },
     "execution_count": 4,
     "metadata": {},
     "output_type": "execute_result"
    }
   ],
   "source": [
    "#Show dataset shape and informations\n",
    "\n",
    "print(\"Train dataset size :\", df.shape, \"\\n\")\n",
    "df.head()"
   ]
  },
  {
   "cell_type": "code",
   "execution_count": 5,
   "id": "6fb98c39",
   "metadata": {
    "execution": {
     "iopub.execute_input": "2022-07-03T16:22:49.718862Z",
     "iopub.status.busy": "2022-07-03T16:22:49.718506Z",
     "iopub.status.idle": "2022-07-03T16:22:49.734315Z",
     "shell.execute_reply": "2022-07-03T16:22:49.732911Z"
    },
    "papermill": {
     "duration": 0.031287,
     "end_time": "2022-07-03T16:22:49.737793",
     "exception": false,
     "start_time": "2022-07-03T16:22:49.706506",
     "status": "completed"
    },
    "tags": []
   },
   "outputs": [
    {
     "data": {
      "text/html": [
       "<div>\n",
       "<style scoped>\n",
       "    .dataframe tbody tr th:only-of-type {\n",
       "        vertical-align: middle;\n",
       "    }\n",
       "\n",
       "    .dataframe tbody tr th {\n",
       "        vertical-align: top;\n",
       "    }\n",
       "\n",
       "    .dataframe thead th {\n",
       "        text-align: right;\n",
       "    }\n",
       "</style>\n",
       "<table border=\"1\" class=\"dataframe\">\n",
       "  <thead>\n",
       "    <tr style=\"text-align: right;\">\n",
       "      <th></th>\n",
       "      <th>id_code</th>\n",
       "    </tr>\n",
       "    <tr>\n",
       "      <th>diagnosis</th>\n",
       "      <th></th>\n",
       "    </tr>\n",
       "  </thead>\n",
       "  <tbody>\n",
       "    <tr>\n",
       "      <th>0</th>\n",
       "      <td>1805</td>\n",
       "    </tr>\n",
       "    <tr>\n",
       "      <th>1</th>\n",
       "      <td>370</td>\n",
       "    </tr>\n",
       "    <tr>\n",
       "      <th>2</th>\n",
       "      <td>999</td>\n",
       "    </tr>\n",
       "    <tr>\n",
       "      <th>3</th>\n",
       "      <td>193</td>\n",
       "    </tr>\n",
       "    <tr>\n",
       "      <th>4</th>\n",
       "      <td>295</td>\n",
       "    </tr>\n",
       "  </tbody>\n",
       "</table>\n",
       "</div>"
      ],
      "text/plain": [
       "           id_code\n",
       "diagnosis         \n",
       "0             1805\n",
       "1              370\n",
       "2              999\n",
       "3              193\n",
       "4              295"
      ]
     },
     "execution_count": 5,
     "metadata": {},
     "output_type": "execute_result"
    }
   ],
   "source": [
    "#Get number of occurrences of each class in train dataset\n",
    "\n",
    "df.groupby('diagnosis').count()"
   ]
  },
  {
   "cell_type": "code",
   "execution_count": 6,
   "id": "8932bec5",
   "metadata": {
    "execution": {
     "iopub.execute_input": "2022-07-03T16:22:49.763149Z",
     "iopub.status.busy": "2022-07-03T16:22:49.762795Z",
     "iopub.status.idle": "2022-07-03T16:22:50.206512Z",
     "shell.execute_reply": "2022-07-03T16:22:50.203785Z"
    },
    "papermill": {
     "duration": 0.46076,
     "end_time": "2022-07-03T16:22:50.210431",
     "exception": false,
     "start_time": "2022-07-03T16:22:49.749671",
     "status": "completed"
    },
    "tags": []
   },
   "outputs": [
    {
     "data": {
      "image/png": "[encoded data removed]",
      "text/plain": [
       "<Figure size 432x288 with 1 Axes>"
      ]
     },
     "metadata": {},
     "output_type": "display_data"
    }
   ],
   "source": [
    "#Pie graph for classes in train dataset\n",
    "\n",
    "df['diagnosis'].value_counts().plot(labels = ['Normal', 'Moderate', 'Mild', 'Proliferative', 'Severe'],kind = 'pie',autopct='%1.1f%%')\n",
    "plt.savefig('pie_train_classes.png', dpi = 400)\n",
    "plt.show() "
   ]
  },
  {
   "cell_type": "code",
   "execution_count": 7,
   "id": "a2227a9f",
   "metadata": {
    "execution": {
     "iopub.execute_input": "2022-07-03T16:22:50.260485Z",
     "iopub.status.busy": "2022-07-03T16:22:50.259944Z",
     "iopub.status.idle": "2022-07-03T16:22:50.276661Z",
     "shell.execute_reply": "2022-07-03T16:22:50.274882Z"
    },
    "papermill": {
     "duration": 0.044338,
     "end_time": "2022-07-03T16:22:50.279023",
     "exception": false,
     "start_time": "2022-07-03T16:22:50.234685",
     "status": "completed"
    },
    "tags": []
   },
   "outputs": [
    {
     "name": "stdout",
     "output_type": "stream",
     "text": [
      "Dataset size : (3662, 2) \n",
      "\n",
      "There are Nan in dataset?  False \n",
      "\n"
     ]
    }
   ],
   "source": [
    "# Remove duplicated lines in dataframes\n",
    "df = df.drop_duplicates()\n",
    "print(\"Dataset size :\", df.shape, \"\\n\")\n",
    "\n",
    "# Analysis Nan values in dataframes\n",
    "print(\"There are Nan in dataset? \", bool(df.isnull().sum().sum()), \"\\n\")"
   ]
  },
  {
   "cell_type": "code",
   "execution_count": 8,
   "id": "a9515568",
   "metadata": {
    "execution": {
     "iopub.execute_input": "2022-07-03T16:22:50.304459Z",
     "iopub.status.busy": "2022-07-03T16:22:50.303748Z",
     "iopub.status.idle": "2022-07-03T16:22:59.879375Z",
     "shell.execute_reply": "2022-07-03T16:22:59.878292Z"
    },
    "papermill": {
     "duration": 9.592731,
     "end_time": "2022-07-03T16:22:59.883588",
     "exception": false,
     "start_time": "2022-07-03T16:22:50.290857",
     "status": "completed"
    },
    "tags": []
   },
   "outputs": [
    {
     "name": "stdout",
     "output_type": "stream",
     "text": [
      "Shape of Image: (1050, 1050, 3)\n",
      "Shape of Image: (1736, 2416, 3)\n",
      "Shape of Image: (2136, 3216, 3)\n",
      "Shape of Image: (1958, 2588, 3)\n",
      "Shape of Image: (2136, 3216, 3)\n"
     ]
    },
    {
     "data": {
      "image/png": "[encoded data removed]",
      "text/plain": [
       "<Figure size 1080x432 with 5 Axes>"
      ]
     },
     "metadata": {
      "needs_background": "light"
     },
     "output_type": "display_data"
    }
   ],
   "source": [
    "import matplotlib.pyplot as plt\n",
    "import matplotlib.image as mpimg\n",
    "\n",
    "# Plot one figure for each class in dataframe\n",
    "\n",
    "fig, ax = plt.subplots(1, 5, figsize=(15, 6))\n",
    "for i in range(5):\n",
    "    sample = df[df['diagnosis'] == i].sample(1)\n",
    "    image_name = sample['id_code'].item()\n",
    "    X = mpimg.imread('../input/aptos2019-blindness-detection/train_images/' + image_name)\n",
    "    print(\"Shape of Image: \" + str(X.shape))\n",
    "    ax[i].set_title(f\"Image: {image_name}\\n Label = {sample['diagnosis'].item()}\", \n",
    "                    weight='bold', fontsize=10)\n",
    "    ax[i].axis('off')\n",
    "    ax[i].imshow(X);\n",
    "plt.savefig('real_images.png', dpi = 200)"
   ]
  },
  {
   "cell_type": "markdown",
   "id": "3410ca2e",
   "metadata": {
    "papermill": {
     "duration": 0.013725,
     "end_time": "2022-07-03T16:22:59.912125",
     "exception": false,
     "start_time": "2022-07-03T16:22:59.898400",
     "status": "completed"
    },
    "tags": []
   },
   "source": [
    "# Preprocessing"
   ]
  },
  {
   "cell_type": "code",
   "execution_count": 9,
   "id": "d56d525e",
   "metadata": {
    "execution": {
     "iopub.execute_input": "2022-07-03T16:22:59.941604Z",
     "iopub.status.busy": "2022-07-03T16:22:59.941214Z",
     "iopub.status.idle": "2022-07-03T16:23:09.971217Z",
     "shell.execute_reply": "2022-07-03T16:23:09.970150Z"
    },
    "papermill": {
     "duration": 10.047586,
     "end_time": "2022-07-03T16:23:09.973924",
     "exception": false,
     "start_time": "2022-07-03T16:22:59.926338",
     "status": "completed"
    },
    "tags": []
   },
   "outputs": [
    {
     "name": "stderr",
     "output_type": "stream",
     "text": [
      "2022-07-03 16:23:00.490910: I tensorflow/stream_executor/cuda/cuda_gpu_executor.cc:937] successful NUMA node read from SysFS had negative value (-1), but there must be at least one NUMA node, so returning NUMA node zero\n",
      "2022-07-03 16:23:00.609822: I tensorflow/stream_executor/cuda/cuda_gpu_executor.cc:937] successful NUMA node read from SysFS had negative value (-1), but there must be at least one NUMA node, so returning NUMA node zero\n",
      "2022-07-03 16:23:00.610922: I tensorflow/stream_executor/cuda/cuda_gpu_executor.cc:937] successful NUMA node read from SysFS had negative value (-1), but there must be at least one NUMA node, so returning NUMA node zero\n",
      "2022-07-03 16:23:00.613003: I tensorflow/core/platform/cpu_feature_guard.cc:142] This TensorFlow binary is optimized with oneAPI Deep Neural Network Library (oneDNN) to use the following CPU instructions in performance-critical operations:  AVX2 FMA\n",
      "To enable them in other operations, rebuild TensorFlow with the appropriate compiler flags.\n",
      "2022-07-03 16:23:00.613387: I tensorflow/stream_executor/cuda/cuda_gpu_executor.cc:937] successful NUMA node read from SysFS had negative value (-1), but there must be at least one NUMA node, so returning NUMA node zero\n",
      "2022-07-03 16:23:00.614561: I tensorflow/stream_executor/cuda/cuda_gpu_executor.cc:937] successful NUMA node read from SysFS had negative value (-1), but there must be at least one NUMA node, so returning NUMA node zero\n",
      "2022-07-03 16:23:00.615659: I tensorflow/stream_executor/cuda/cuda_gpu_executor.cc:937] successful NUMA node read from SysFS had negative value (-1), but there must be at least one NUMA node, so returning NUMA node zero\n",
      "2022-07-03 16:23:03.286305: I tensorflow/stream_executor/cuda/cuda_gpu_executor.cc:937] successful NUMA node read from SysFS had negative value (-1), but there must be at least one NUMA node, so returning NUMA node zero\n",
      "2022-07-03 16:23:03.287525: I tensorflow/stream_executor/cuda/cuda_gpu_executor.cc:937] successful NUMA node read from SysFS had negative value (-1), but there must be at least one NUMA node, so returning NUMA node zero\n",
      "2022-07-03 16:23:03.288500: I tensorflow/stream_executor/cuda/cuda_gpu_executor.cc:937] successful NUMA node read from SysFS had negative value (-1), but there must be at least one NUMA node, so returning NUMA node zero\n",
      "2022-07-03 16:23:03.289557: I tensorflow/core/common_runtime/gpu/gpu_device.cc:1510] Created device /job:localhost/replica:0/task:0/device:GPU:0 with 15403 MB memory:  -> device: 0, name: Tesla P100-PCIE-16GB, pci bus id: 0000:00:04.0, compute capability: 6.0\n"
     ]
    },
    {
     "name": "stdout",
     "output_type": "stream",
     "text": [
      "Downloading data from https://storage.googleapis.com/keras-applications/efficientnetb3_notop.h5\n",
      "43941888/43941136 [==============================] - 1s 0us/step\n",
      "43950080/43941136 [==============================] - 1s 0us/step\n",
      "Model: \"sequential\"\n",
      "_________________________________________________________________\n",
      "Layer (type)                 Output Shape              Param #   \n",
      "=================================================================\n",
      "efficientnetb3 (Functional)  (None, 10, 10, 1536)      10783535  \n",
      "_________________________________________________________________\n",
      "global_average_pooling2d (Gl (None, 1536)              0         \n",
      "=================================================================\n",
      "Total params: 10,783,535\n",
      "Trainable params: 10,696,232\n",
      "Non-trainable params: 87,303\n",
      "_________________________________________________________________\n"
     ]
    }
   ],
   "source": [
    "import tensorflow as tf\n",
    "from tensorflow import keras\n",
    "from keras import *\n",
    "from keras.models import Sequential, load_model\n",
    "from keras.models import Model\n",
    "from keras.layers import GlobalAveragePooling2D, Dropout\n",
    "from keras.layers import Dense, Activation, Flatten\n",
    "from tensorflow.keras.optimizers import Adam \n",
    "import tensorflow.keras as keras\n",
    "from tensorflow.keras.applications import EfficientNetB3\n",
    "\n",
    "#Define some constants about the images\n",
    "\n",
    "IMG_WIDTH = 320\n",
    "IMG_HEIGHT = 320\n",
    "NUM_DIMENSIONS = 3\n",
    "BATCH_SIZE = 1\n",
    "\n",
    "INPUT_SHAPE = (IMG_WIDTH, IMG_HEIGHT, NUM_DIMENSIONS)\n",
    "\n",
    "#Building a cnn for features extraction using fine tunning\n",
    "\n",
    "efnb3 = EfficientNetB3(weights='imagenet', include_top = False, input_shape = INPUT_SHAPE)\n",
    "\n",
    "model = Sequential()\n",
    "model.add(efnb3)\n",
    "model.add(GlobalAveragePooling2D())\n",
    "\n",
    "model.summary()\n"
   ]
  },
  {
   "cell_type": "code",
   "execution_count": 10,
   "id": "ddb7258e",
   "metadata": {
    "execution": {
     "iopub.execute_input": "2022-07-03T16:23:10.006056Z",
     "iopub.status.busy": "2022-07-03T16:23:10.005355Z",
     "iopub.status.idle": "2022-07-03T16:23:10.012129Z",
     "shell.execute_reply": "2022-07-03T16:23:10.010962Z"
    },
    "papermill": {
     "duration": 0.024842,
     "end_time": "2022-07-03T16:23:10.014386",
     "exception": false,
     "start_time": "2022-07-03T16:23:09.989544",
     "status": "completed"
    },
    "tags": []
   },
   "outputs": [],
   "source": [
    "def generator(IMG_WIDTH, IMG_HEIGHT, BATCH_SIZE):\n",
    "\n",
    "    # Image Data Generator\n",
    "\n",
    "    train_datagen = ImageDataGenerator()\n",
    "\n",
    "    # Resize and load image\n",
    "\n",
    "    train_generator = train_datagen.flow_from_dataframe(df, \n",
    "                                                        x_col = 'id_code', \n",
    "                                                        y_col = 'diagnosis',\n",
    "                                                        directory = TRAIN_IMG_PATH,\n",
    "                                                        target_size = (IMG_WIDTH, IMG_HEIGHT),\n",
    "                                                        batch_size = BATCH_SIZE,\n",
    "                                                        seed = 42,\n",
    "                                                        class_mode = 'raw', \n",
    "                                                        subset = 'training')\n",
    "    \n",
    "    return train_generator"
   ]
  },
  {
   "cell_type": "code",
   "execution_count": 11,
   "id": "dca854d5",
   "metadata": {
    "execution": {
     "iopub.execute_input": "2022-07-03T16:23:10.046104Z",
     "iopub.status.busy": "2022-07-03T16:23:10.045778Z",
     "iopub.status.idle": "2022-07-03T16:23:10.054094Z",
     "shell.execute_reply": "2022-07-03T16:23:10.052366Z"
    },
    "papermill": {
     "duration": 0.026803,
     "end_time": "2022-07-03T16:23:10.056257",
     "exception": false,
     "start_time": "2022-07-03T16:23:10.029454",
     "status": "completed"
    },
    "tags": []
   },
   "outputs": [],
   "source": [
    "# Generate data\n",
    "\n",
    "def generateData(generator, numElements, isFineTuning):\n",
    "    x = []\n",
    "    y = []\n",
    "        \n",
    "    for j in tqdm(range(0, numElements)):\n",
    "        img, label = next(generator)\n",
    "        if(isFineTuning == True):\n",
    "            x.append(model.predict(img))\n",
    "        else:\n",
    "            x.append(img)\n",
    "        y.append(label)\n",
    "            \n",
    "    if(isFineTuning == True):\n",
    "        return np.array(x),np.array(y)\n",
    "    return np.array(x, dtype = np.uint8),np.array(y, dtype = np.uint8)"
   ]
  },
  {
   "cell_type": "code",
   "execution_count": 12,
   "id": "2c6e1e60",
   "metadata": {
    "execution": {
     "iopub.execute_input": "2022-07-03T16:23:10.087774Z",
     "iopub.status.busy": "2022-07-03T16:23:10.087466Z",
     "iopub.status.idle": "2022-07-03T16:23:17.500140Z",
     "shell.execute_reply": "2022-07-03T16:23:17.498917Z"
    },
    "papermill": {
     "duration": 7.431283,
     "end_time": "2022-07-03T16:23:17.502797",
     "exception": false,
     "start_time": "2022-07-03T16:23:10.071514",
     "status": "completed"
    },
    "tags": []
   },
   "outputs": [
    {
     "name": "stdout",
     "output_type": "stream",
     "text": [
      "Found 3662 validated image filenames.\n"
     ]
    }
   ],
   "source": [
    "train_generator = generator(IMG_WIDTH, IMG_HEIGHT, BATCH_SIZE)"
   ]
  },
  {
   "cell_type": "code",
   "execution_count": 13,
   "id": "8faa5d12",
   "metadata": {
    "execution": {
     "iopub.execute_input": "2022-07-03T16:23:17.535957Z",
     "iopub.status.busy": "2022-07-03T16:23:17.535207Z",
     "iopub.status.idle": "2022-07-03T16:39:11.126795Z",
     "shell.execute_reply": "2022-07-03T16:39:11.125447Z"
    },
    "papermill": {
     "duration": 953.610955,
     "end_time": "2022-07-03T16:39:11.129950",
     "exception": false,
     "start_time": "2022-07-03T16:23:17.518995",
     "status": "completed"
    },
    "tags": []
   },
   "outputs": [
    {
     "name": "stdout",
     "output_type": "stream",
     "text": [
      "Generating dataset!\n"
     ]
    },
    {
     "name": "stderr",
     "output_type": "stream",
     "text": [
      "  0%|          | 0/3662 [00:00<?, ?it/s]2022-07-03 16:23:17.783845: I tensorflow/compiler/mlir/mlir_graph_optimization_pass.cc:185] None of the MLIR Optimization Passes are enabled (registered 2)\n",
      "2022-07-03 16:23:20.996317: I tensorflow/stream_executor/cuda/cuda_dnn.cc:369] Loaded cuDNN version 8005\n",
      "100%|██████████| 3662/3662 [15:53<00:00,  3.84it/s]\n"
     ]
    }
   ],
   "source": [
    "print('Generating dataset!')\n",
    "x_train, y_train = generateData(train_generator, len(train_generator), True)"
   ]
  },
  {
   "cell_type": "code",
   "execution_count": 14,
   "id": "ab52319e",
   "metadata": {
    "execution": {
     "iopub.execute_input": "2022-07-03T16:39:11.654887Z",
     "iopub.status.busy": "2022-07-03T16:39:11.654384Z",
     "iopub.status.idle": "2022-07-03T16:39:11.661325Z",
     "shell.execute_reply": "2022-07-03T16:39:11.660304Z"
    },
    "papermill": {
     "duration": 0.266318,
     "end_time": "2022-07-03T16:39:11.663618",
     "exception": false,
     "start_time": "2022-07-03T16:39:11.397300",
     "status": "completed"
    },
    "tags": []
   },
   "outputs": [
    {
     "data": {
      "text/plain": [
       "(3662, 1, 1536)"
      ]
     },
     "execution_count": 14,
     "metadata": {},
     "output_type": "execute_result"
    }
   ],
   "source": [
    "x_train.shape"
   ]
  },
  {
   "cell_type": "code",
   "execution_count": 15,
   "id": "564b882c",
   "metadata": {
    "execution": {
     "iopub.execute_input": "2022-07-03T16:39:12.163052Z",
     "iopub.status.busy": "2022-07-03T16:39:12.162684Z",
     "iopub.status.idle": "2022-07-03T16:39:12.169536Z",
     "shell.execute_reply": "2022-07-03T16:39:12.168486Z"
    },
    "papermill": {
     "duration": 0.25912,
     "end_time": "2022-07-03T16:39:12.172312",
     "exception": false,
     "start_time": "2022-07-03T16:39:11.913192",
     "status": "completed"
    },
    "tags": []
   },
   "outputs": [
    {
     "data": {
      "text/plain": [
       "(3662, 1)"
      ]
     },
     "execution_count": 15,
     "metadata": {},
     "output_type": "execute_result"
    }
   ],
   "source": [
    "y_train.shape"
   ]
  },
  {
   "cell_type": "code",
   "execution_count": 16,
   "id": "098bf2a4",
   "metadata": {
    "execution": {
     "iopub.execute_input": "2022-07-03T16:39:12.980836Z",
     "iopub.status.busy": "2022-07-03T16:39:12.980374Z",
     "iopub.status.idle": "2022-07-03T16:39:12.986625Z",
     "shell.execute_reply": "2022-07-03T16:39:12.985488Z"
    },
    "papermill": {
     "duration": 0.354748,
     "end_time": "2022-07-03T16:39:12.988746",
     "exception": false,
     "start_time": "2022-07-03T16:39:12.633998",
     "status": "completed"
    },
    "tags": []
   },
   "outputs": [],
   "source": [
    "def changeDimension(x, y):\n",
    "\n",
    "    #Change dimension (numElements, 1, IMG_WIDTH, IMG_HEIGHT, NUM_DIMENSIONS) to (numElements, IMG_WIDTH, IMG_HEIGHT, NUM_DIMENSIONS)\n",
    "    x = np.array(np.squeeze(x, axis = 1))\n",
    "\n",
    "    #Change dimension (numElements, 1) to (numElements)\n",
    "    y = np.ravel(y)\n",
    "    \n",
    "    return x, y"
   ]
  },
  {
   "cell_type": "code",
   "execution_count": 17,
   "id": "ebc3c3a6",
   "metadata": {
    "execution": {
     "iopub.execute_input": "2022-07-03T16:39:13.545381Z",
     "iopub.status.busy": "2022-07-03T16:39:13.544979Z",
     "iopub.status.idle": "2022-07-03T16:39:13.556114Z",
     "shell.execute_reply": "2022-07-03T16:39:13.555109Z"
    },
    "papermill": {
     "duration": 0.277847,
     "end_time": "2022-07-03T16:39:13.558710",
     "exception": false,
     "start_time": "2022-07-03T16:39:13.280863",
     "status": "completed"
    },
    "tags": []
   },
   "outputs": [],
   "source": [
    "x_train, y_train = changeDimension(x_train, y_train)"
   ]
  },
  {
   "cell_type": "code",
   "execution_count": 18,
   "id": "ca86ec53",
   "metadata": {
    "execution": {
     "iopub.execute_input": "2022-07-03T16:39:14.081666Z",
     "iopub.status.busy": "2022-07-03T16:39:14.081175Z",
     "iopub.status.idle": "2022-07-03T16:39:15.939984Z",
     "shell.execute_reply": "2022-07-03T16:39:15.937479Z"
    },
    "papermill": {
     "duration": 2.119906,
     "end_time": "2022-07-03T16:39:15.942535",
     "exception": false,
     "start_time": "2022-07-03T16:39:13.822629",
     "status": "completed"
    },
    "tags": []
   },
   "outputs": [
    {
     "name": "stdout",
     "output_type": "stream",
     "text": [
      "Found 3662 validated image filenames.\n"
     ]
    }
   ],
   "source": [
    "IMG_WIDTH_B4 = 380\n",
    "IMG_HEIGHT_B4 = 380\n",
    "\n",
    "INPUT_SHAPE_B4 = (IMG_WIDTH_B4, IMG_HEIGHT_B4, NUM_DIMENSIONS)\n",
    "\n",
    "train_generator_B4 = generator(IMG_WIDTH_B4, IMG_HEIGHT_B4, BATCH_SIZE)"
   ]
  },
  {
   "cell_type": "code",
   "execution_count": 19,
   "id": "79fd2a86",
   "metadata": {
    "execution": {
     "iopub.execute_input": "2022-07-03T16:39:16.459248Z",
     "iopub.status.busy": "2022-07-03T16:39:16.458799Z",
     "iopub.status.idle": "2022-07-03T16:49:59.038985Z",
     "shell.execute_reply": "2022-07-03T16:49:59.037831Z"
    },
    "papermill": {
     "duration": 642.842701,
     "end_time": "2022-07-03T16:49:59.044943",
     "exception": false,
     "start_time": "2022-07-03T16:39:16.202242",
     "status": "completed"
    },
    "tags": []
   },
   "outputs": [
    {
     "name": "stdout",
     "output_type": "stream",
     "text": [
      "Generating dataset for EfficientNet-B4!\n"
     ]
    },
    {
     "name": "stderr",
     "output_type": "stream",
     "text": [
      "100%|██████████| 3662/3662 [10:39<00:00,  5.72it/s]\n"
     ]
    }
   ],
   "source": [
    "print('Generating dataset for EfficientNet-B4!')\n",
    "x_train_B4, y_train_B4 = generateData(train_generator_B4, len(train_generator_B4), False)"
   ]
  },
  {
   "cell_type": "code",
   "execution_count": 20,
   "id": "1992ad1c",
   "metadata": {
    "execution": {
     "iopub.execute_input": "2022-07-03T16:49:59.900783Z",
     "iopub.status.busy": "2022-07-03T16:49:59.899413Z",
     "iopub.status.idle": "2022-07-03T16:50:01.000166Z",
     "shell.execute_reply": "2022-07-03T16:50:00.998999Z"
    },
    "papermill": {
     "duration": 1.527751,
     "end_time": "2022-07-03T16:50:01.002979",
     "exception": false,
     "start_time": "2022-07-03T16:49:59.475228",
     "status": "completed"
    },
    "tags": []
   },
   "outputs": [],
   "source": [
    "x_train_B4, y_train_B4 = changeDimension(x_train_B4, y_train_B4)"
   ]
  },
  {
   "cell_type": "code",
   "execution_count": 21,
   "id": "c7f40a03",
   "metadata": {
    "execution": {
     "iopub.execute_input": "2022-07-03T16:50:02.215087Z",
     "iopub.status.busy": "2022-07-03T16:50:02.214563Z",
     "iopub.status.idle": "2022-07-03T16:50:02.358217Z",
     "shell.execute_reply": "2022-07-03T16:50:02.357213Z"
    },
    "papermill": {
     "duration": 0.693317,
     "end_time": "2022-07-03T16:50:02.360928",
     "exception": false,
     "start_time": "2022-07-03T16:50:01.667611",
     "status": "completed"
    },
    "tags": []
   },
   "outputs": [],
   "source": [
    "from sklearn.model_selection import train_test_split\n",
    "\n",
    "#Generate train, validate and test \n",
    "\n",
    "def getDatasets(x_train, y_train):\n",
    "\n",
    "    x_train_2, x_test, y_train_2, y_test = train_test_split(x_train, y_train, test_size = 0.15, stratify = y_train, shuffle = True, random_state = 42)\n",
    "\n",
    "    x_train_final, x_val, y_train_final, y_val = train_test_split(x_train_2, y_train_2, test_size = 0.2, stratify = y_train_2, shuffle = True, random_state = 42)\n",
    "    \n",
    "    return x_train_final, y_train_final, x_val, y_val, x_test, y_test"
   ]
  },
  {
   "cell_type": "code",
   "execution_count": 22,
   "id": "c336ff5f",
   "metadata": {
    "execution": {
     "iopub.execute_input": "2022-07-03T16:50:03.206748Z",
     "iopub.status.busy": "2022-07-03T16:50:03.206362Z",
     "iopub.status.idle": "2022-07-03T16:50:04.819242Z",
     "shell.execute_reply": "2022-07-03T16:50:04.818176Z"
    },
    "papermill": {
     "duration": 2.037775,
     "end_time": "2022-07-03T16:50:04.821853",
     "exception": false,
     "start_time": "2022-07-03T16:50:02.784078",
     "status": "completed"
    },
    "tags": []
   },
   "outputs": [],
   "source": [
    "x_train, y_train, x_val, y_val, x_test, y_test = getDatasets(x_train, y_train)\n",
    "x_train_B4, y_train_B4, x_val_B4, y_val_B4, x_test_B4, y_test_B4 = getDatasets(x_train_B4, y_train_B4)"
   ]
  },
  {
   "cell_type": "code",
   "execution_count": 23,
   "id": "0ee3eb36",
   "metadata": {
    "execution": {
     "iopub.execute_input": "2022-07-03T16:50:05.710432Z",
     "iopub.status.busy": "2022-07-03T16:50:05.709990Z",
     "iopub.status.idle": "2022-07-03T16:50:06.416295Z",
     "shell.execute_reply": "2022-07-03T16:50:06.415218Z"
    },
    "papermill": {
     "duration": 1.175705,
     "end_time": "2022-07-03T16:50:06.418719",
     "exception": false,
     "start_time": "2022-07-03T16:50:05.243014",
     "status": "completed"
    },
    "tags": []
   },
   "outputs": [
    {
     "data": {
      "text/plain": [
       "124236"
      ]
     },
     "execution_count": 23,
     "metadata": {},
     "output_type": "execute_result"
    }
   ],
   "source": [
    "import gc\n",
    "\n",
    "del df\n",
    "del efnb3\n",
    "del model\n",
    "del train_generator\n",
    "del train_generator_B4\n",
    "\n",
    "gc.collect()"
   ]
  },
  {
   "cell_type": "code",
   "execution_count": 24,
   "id": "a8ed339e",
   "metadata": {
    "execution": {
     "iopub.execute_input": "2022-07-03T16:50:07.277174Z",
     "iopub.status.busy": "2022-07-03T16:50:07.276787Z",
     "iopub.status.idle": "2022-07-03T16:50:07.851236Z",
     "shell.execute_reply": "2022-07-03T16:50:07.849937Z"
    },
    "papermill": {
     "duration": 1.006235,
     "end_time": "2022-07-03T16:50:07.854719",
     "exception": false,
     "start_time": "2022-07-03T16:50:06.848484",
     "status": "completed"
    },
    "tags": []
   },
   "outputs": [],
   "source": [
    "from imblearn.over_sampling import SMOTE\n",
    "\n",
    "# Using Synthetic Minority Oversampling Technique (SMOTE) to balance dataset\n",
    "\n",
    "sm = SMOTE(random_state = 42)\n",
    "\n",
    "x_train_SMOTE, y_train_SMOTE = sm.fit_resample(x_train, y_train)"
   ]
  },
  {
   "cell_type": "code",
   "execution_count": 25,
   "id": "60f6bd62",
   "metadata": {
    "execution": {
     "iopub.execute_input": "2022-07-03T16:50:08.792400Z",
     "iopub.status.busy": "2022-07-03T16:50:08.791998Z",
     "iopub.status.idle": "2022-07-03T16:50:08.824450Z",
     "shell.execute_reply": "2022-07-03T16:50:08.823333Z"
    },
    "papermill": {
     "duration": 0.499691,
     "end_time": "2022-07-03T16:50:08.827001",
     "exception": false,
     "start_time": "2022-07-03T16:50:08.327310",
     "status": "completed"
    },
    "tags": []
   },
   "outputs": [],
   "source": [
    "from imblearn.over_sampling import RandomOverSampler \n",
    "\n",
    "# Using RandomOverSampler to balance dataset\n",
    "\n",
    "sm = RandomOverSampler(random_state = 42)\n",
    "\n",
    "x_train_ROV, y_train_ROV = sm.fit_resample(x_train, y_train)"
   ]
  },
  {
   "cell_type": "code",
   "execution_count": 26,
   "id": "bac821ab",
   "metadata": {
    "execution": {
     "iopub.execute_input": "2022-07-03T16:50:09.685345Z",
     "iopub.status.busy": "2022-07-03T16:50:09.684953Z",
     "iopub.status.idle": "2022-07-03T16:50:10.366791Z",
     "shell.execute_reply": "2022-07-03T16:50:10.365612Z"
    },
    "papermill": {
     "duration": 1.111291,
     "end_time": "2022-07-03T16:50:10.369744",
     "exception": false,
     "start_time": "2022-07-03T16:50:09.258453",
     "status": "completed"
    },
    "tags": []
   },
   "outputs": [],
   "source": [
    "from imblearn.over_sampling import BorderlineSMOTE\n",
    "\n",
    "# Using BorderlineSMOTE to balance dataset\n",
    "\n",
    "sm = BorderlineSMOTE(random_state = 42)\n",
    "\n",
    "x_train_BLM, y_train_BLM = sm.fit_resample(x_train, y_train)"
   ]
  },
  {
   "cell_type": "code",
   "execution_count": 27,
   "id": "e048acb3",
   "metadata": {
    "execution": {
     "iopub.execute_input": "2022-07-03T16:50:11.299458Z",
     "iopub.status.busy": "2022-07-03T16:50:11.298977Z",
     "iopub.status.idle": "2022-07-03T16:50:11.961720Z",
     "shell.execute_reply": "2022-07-03T16:50:11.960426Z"
    },
    "papermill": {
     "duration": 1.12909,
     "end_time": "2022-07-03T16:50:11.965537",
     "exception": false,
     "start_time": "2022-07-03T16:50:10.836447",
     "status": "completed"
    },
    "tags": []
   },
   "outputs": [],
   "source": [
    "from imblearn.over_sampling import ADASYN \n",
    "\n",
    "# Using ADASYN  to balance dataset\n",
    "\n",
    "sm = ADASYN(random_state = 42)\n",
    "\n",
    "x_train_ADASYN, y_train_ADASYN = sm.fit_resample(x_train, y_train)"
   ]
  },
  {
   "cell_type": "code",
   "execution_count": 28,
   "id": "9c6be0d6",
   "metadata": {
    "execution": {
     "iopub.execute_input": "2022-07-03T16:50:13.182071Z",
     "iopub.status.busy": "2022-07-03T16:50:13.181717Z",
     "iopub.status.idle": "2022-07-03T16:50:19.879734Z",
     "shell.execute_reply": "2022-07-03T16:50:19.878744Z"
    },
    "papermill": {
     "duration": 7.188798,
     "end_time": "2022-07-03T16:50:19.882648",
     "exception": false,
     "start_time": "2022-07-03T16:50:12.693850",
     "status": "completed"
    },
    "tags": []
   },
   "outputs": [
    {
     "name": "stdout",
     "output_type": "stream",
     "text": [
      "Downloading data from https://storage.googleapis.com/keras-applications/efficientnetb4_notop.h5\n",
      "71688192/71686520 [==============================] - 2s 0us/step\n",
      "71696384/71686520 [==============================] - 2s 0us/step\n"
     ]
    }
   ],
   "source": [
    "from tensorflow.keras.applications import EfficientNetB4\n",
    "from tensorflow.keras.layers import BatchNormalization\n",
    "from tensorflow.keras.layers import AlphaDropout\n",
    "\n",
    "#Using transfer learning in EfficientNetB4\n",
    "\n",
    "efnb4 = EfficientNetB4(weights='imagenet', include_top = False, input_shape = INPUT_SHAPE_B4)\n",
    "\n",
    "#Freeze original layers\n",
    "for layer in efnb4.layers: \n",
    "  layer.trainable = False\n",
    "\n",
    "#Remove last layer and add new layers\n",
    "last_layer = efnb4.layers[-1].output\n",
    "x = GlobalAveragePooling2D()(last_layer)\n",
    "x = Dense(1000, activation='relu', name = 'fc1')(x)\n",
    "x = Dropout(rate = 0.5, seed = 42)(x)\n",
    "x = Dense(500, activation='relu', name = 'fc2')(x)\n",
    "x = Dropout(rate = 0.5, seed = 42)(x)\n",
    "x = Dense(100, activation='relu', name = 'fc3')(x)\n",
    "x = Dropout(rate = 0.5, seed = 42)(x)\n",
    "x = Dense(5, activation = 'softmax', name = 'predictions')(x)\n",
    "\n",
    "#Define new model\n",
    "model_B4 = Model(inputs = efnb4.inputs, outputs = x)\n",
    "model_B4.compile(optimizer = Adam(learning_rate = 5e-4), loss = 'categorical_crossentropy', metrics = ['accuracy'])\n",
    "\n",
    "\n",
    "#Save best model and using early stopping\n",
    "callbacks_list = [\n",
    "    keras.callbacks.ModelCheckpoint(\n",
    "        filepath='model_B4',\n",
    "        monitor='val_loss', save_best_only=True, verbose=1),\n",
    "    keras.callbacks.EarlyStopping(monitor='val_loss', patience=10, verbose=1)\n",
    "]\n"
   ]
  },
  {
   "cell_type": "code",
   "execution_count": 29,
   "id": "64d08a40",
   "metadata": {
    "execution": {
     "iopub.execute_input": "2022-07-03T16:50:20.757646Z",
     "iopub.status.busy": "2022-07-03T16:50:20.757253Z",
     "iopub.status.idle": "2022-07-03T16:50:20.762614Z",
     "shell.execute_reply": "2022-07-03T16:50:20.761655Z"
    },
    "papermill": {
     "duration": 0.438019,
     "end_time": "2022-07-03T16:50:20.764660",
     "exception": false,
     "start_time": "2022-07-03T16:50:20.326641",
     "status": "completed"
    },
    "tags": []
   },
   "outputs": [],
   "source": [
    "#Ordinal for one hot enconder\n",
    "\n",
    "def oneHotEnconder(vector):\n",
    "    targets = vector.reshape(-1)\n",
    "    one_hot_targets = np.eye(5)[targets]\n",
    "    \n",
    "    return one_hot_targets"
   ]
  },
  {
   "cell_type": "markdown",
   "id": "16d58a7d",
   "metadata": {
    "papermill": {
     "duration": 0.687948,
     "end_time": "2022-07-03T16:50:21.885002",
     "exception": false,
     "start_time": "2022-07-03T16:50:21.197054",
     "status": "completed"
    },
    "tags": []
   },
   "source": [
    "# Results"
   ]
  },
  {
   "cell_type": "code",
   "execution_count": 30,
   "id": "c25e3f2d",
   "metadata": {
    "execution": {
     "iopub.execute_input": "2022-07-03T16:50:23.416380Z",
     "iopub.status.busy": "2022-07-03T16:50:23.415751Z",
     "iopub.status.idle": "2022-07-03T16:50:23.473708Z",
     "shell.execute_reply": "2022-07-03T16:50:23.472543Z"
    },
    "papermill": {
     "duration": 0.774666,
     "end_time": "2022-07-03T16:50:23.476605",
     "exception": false,
     "start_time": "2022-07-03T16:50:22.701939",
     "status": "completed"
    },
    "tags": []
   },
   "outputs": [],
   "source": [
    "from sklearn.model_selection import GridSearchCV\n",
    "from sklearn.model_selection import StratifiedKFold\n",
    "from sklearn.metrics import cohen_kappa_score, make_scorer\n",
    "from sklearn.metrics import classification_report\n",
    "from sklearn.metrics import accuracy_score\n",
    "from sklearn.metrics import f1_score\n",
    "from tensorflow.keras.models import load_model\n",
    "\n",
    "#Get results of validate and test dataset\n",
    "\n",
    "def getResults(nameClassifier, nameDataAugmentation, x_train, y_train, x_val, y_val, x_test, y_test):\n",
    "    \n",
    "    print(\"Using \", nameClassifier, \"and\", nameDataAugmentation, \"data augmentation technic\\n\\n\")\n",
    "    \n",
    "    results_val = []\n",
    "    \n",
    "    batch_size = 32\n",
    "    epochs = 120\n",
    "    \n",
    "    if(nameClassifier == \"KNN\"):\n",
    "        for K in range(2, 13):\n",
    "            for weight in ['uniform','distance']:\n",
    "                clf = KNeighborsClassifier(n_neighbors = K, weights = weight)\n",
    "                clf.fit(x_train, y_train)\n",
    "                y_pred = clf.predict(x_val)\n",
    "                results_val.append([K, weight, accuracy_score(y_val, y_pred), f1_score(y_val, y_pred, average='macro'), cohen_kappa_score(y_val, y_pred, weights = 'quadratic')])\n",
    "                \n",
    "    elif(nameClassifier == \"Decision Tree\"):\n",
    "        for max_depth in range(2, 7):\n",
    "            for criterion in ['gini', 'entropy']:\n",
    "                clf = DecisionTreeClassifier(max_depth = max_depth, criterion = criterion, random_state = 42)\n",
    "                clf.fit(x_train, y_train)\n",
    "                y_pred = clf.predict(x_val)\n",
    "                results_val.append([max_depth, criterion, accuracy_score(y_val, y_pred), f1_score(y_val, y_pred, average='macro'), cohen_kappa_score(y_val, y_pred, weights = 'quadratic')])\n",
    "    \n",
    "    elif(nameClassifier == \"SVM\"): \n",
    "        for C in [10, 100, 1000]:\n",
    "            for kernel in ['linear', 'poly', 'rbf', 'sigmoid']:\n",
    "                clf = svm.SVC(C = C, kernel = kernel, random_state = 42)\n",
    "                clf.fit(x_train, y_train)\n",
    "                y_pred = clf.predict(x_val)\n",
    "                results_val.append([C, kernel, accuracy_score(y_val, y_pred), f1_score(y_val, y_pred, average='macro'), cohen_kappa_score(y_val, y_pred, weights = 'quadratic')])\n",
    "    elif(nameClassifier == \"CNN\"):\n",
    "        model_B4.fit(x_train, y_train, batch_size = batch_size, validation_data = (x_val, y_val), callbacks = callbacks_list, epochs = epochs)\n",
    "        # Load the best saved model\n",
    "        model = load_model('model_B4')\n",
    "        y_pred = model.predict(x_val)\n",
    "        results_val.append([batch_size, epochs, accuracy_score(np.argmax(y_val, axis=1), np.argmax(y_pred, axis=1)), f1_score(np.argmax(y_val, axis=1), np.argmax(y_pred, axis=1), average='macro'), cohen_kappa_score(np.argmax(y_val, axis=1), np.argmax(y_pred, axis=1), weights = 'quadratic')])\n",
    "    \n",
    "    \n",
    "    print(\"Results of validate:\\n\")\n",
    "    for i in results_val:\n",
    "        print(i)\n",
    "    print(\"\\n\")\n",
    "    \n",
    "    \n",
    "    max = results_val[0][4]\n",
    "    index_max = 0\n",
    "    # Search max cohen kappa score\n",
    "    for i in range(1,len(results_val)):\n",
    "        if(results_val[i][4] > max):\n",
    "            max = results_val[i][4]\n",
    "            index_max = i\n",
    "    \n",
    "    print(\"Best validate results and params:\",results_val[index_max])\n",
    "    \n",
    "    results_test = []\n",
    "    \n",
    "    if(nameClassifier == \"KNN\"):\n",
    "        clf = KNeighborsClassifier(n_neighbors = results_val[index_max][0], weights = results_val[index_max][1])\n",
    "        clf.fit(x_train, y_train)\n",
    "        y_pred = clf.predict(x_test)\n",
    "        results_test.append([results_val[index_max][0], results_val[index_max][1], accuracy_score(y_test, y_pred), f1_score(y_test, y_pred, average='macro'), cohen_kappa_score(y_test, y_pred, weights = 'quadratic')])\n",
    "        \n",
    "    elif(nameClassifier == \"Decision Tree\"):\n",
    "        clf = DecisionTreeClassifier(max_depth = results_val[index_max][0], criterion = results_val[index_max][1], random_state = 42)\n",
    "        clf.fit(x_train, y_train)\n",
    "        y_pred = clf.predict(x_test)\n",
    "        results_test.append([results_val[index_max][0], results_val[index_max][1], accuracy_score(y_test, y_pred), f1_score(y_test, y_pred, average='macro'), cohen_kappa_score(y_test, y_pred, weights = 'quadratic')])\n",
    "        \n",
    "    elif(nameClassifier == \"SVM\"): \n",
    "        clf = svm.SVC(C = results_val[index_max][0], kernel = results_val[index_max][1], random_state = 42)\n",
    "        clf.fit(x_train, y_train)\n",
    "        y_pred = clf.predict(x_test)\n",
    "        results_test.append([results_val[index_max][0], results_val[index_max][1], accuracy_score(y_test, y_pred), f1_score(y_test, y_pred, average='macro'), cohen_kappa_score(y_test, y_pred, weights = 'quadratic')]) \n",
    "    elif(nameClassifier == \"CNN\"):\n",
    "        y_pred = model.predict(x_test)\n",
    "        results_test.append([results_val[index_max][0], results_val[index_max][1], accuracy_score(y_test, np.argmax(y_pred, axis=1)), f1_score(y_test, np.argmax(y_pred, axis=1), average='macro'), cohen_kappa_score(y_test, np.argmax(y_pred, axis=1), weights = 'quadratic')]) \n",
    "    \n",
    "    print(\"Result of test:\",results_test)\n",
    "    print(\"\\n\\n\\n\")"
   ]
  },
  {
   "cell_type": "markdown",
   "id": "16ccaec9",
   "metadata": {
    "papermill": {
     "duration": 0.466997,
     "end_time": "2022-07-03T16:50:24.562814",
     "exception": false,
     "start_time": "2022-07-03T16:50:24.095817",
     "status": "completed"
    },
    "tags": []
   },
   "source": [
    "## K-Nearest Neighbors (KNN)"
   ]
  },
  {
   "cell_type": "code",
   "execution_count": 31,
   "id": "66042094",
   "metadata": {
    "execution": {
     "iopub.execute_input": "2022-07-03T16:50:25.423579Z",
     "iopub.status.busy": "2022-07-03T16:50:25.423115Z",
     "iopub.status.idle": "2022-07-03T16:51:26.899947Z",
     "shell.execute_reply": "2022-07-03T16:51:26.896551Z"
    },
    "papermill": {
     "duration": 61.911672,
     "end_time": "2022-07-03T16:51:26.903327",
     "exception": false,
     "start_time": "2022-07-03T16:50:24.991655",
     "status": "completed"
    },
    "tags": []
   },
   "outputs": [
    {
     "name": "stdout",
     "output_type": "stream",
     "text": [
      "Using  KNN and Nothing data augmentation technic\n",
      "\n",
      "\n",
      "Results of validate:\n",
      "\n",
      "[2, 'uniform', 0.7271268057784912, 0.4417260617853612, 0.7435418772784363]\n",
      "[2, 'distance', 0.7415730337078652, 0.5384159270593273, 0.7693173571100612]\n",
      "[3, 'uniform', 0.7431781701444623, 0.46580915488805025, 0.7463616171826819]\n",
      "[3, 'distance', 0.7560192616372392, 0.5218734399701372, 0.7904541402092862]\n",
      "[4, 'uniform', 0.7592295345104334, 0.4912971999422928, 0.7845262296137536]\n",
      "[4, 'distance', 0.7608346709470305, 0.5101089532057023, 0.8022347787442068]\n",
      "[5, 'uniform', 0.7624398073836276, 0.47242692410921894, 0.7731674316433077]\n",
      "[5, 'distance', 0.7688603531300161, 0.5115215719611583, 0.8036787876642]\n",
      "[6, 'uniform', 0.7656500802568218, 0.4793307347900523, 0.7832139442909338]\n",
      "[6, 'distance', 0.7704654895666132, 0.5093206614553132, 0.7963111575864184]\n",
      "[7, 'uniform', 0.7640449438202247, 0.45829664937264036, 0.7885528440729676]\n",
      "[7, 'distance', 0.7720706260032103, 0.496457471441803, 0.8151627833379484]\n",
      "[8, 'uniform', 0.7736757624398074, 0.49757541891569224, 0.7992149935124583]\n",
      "[8, 'distance', 0.7752808988764045, 0.5115086101864589, 0.8136397690435587]\n",
      "[9, 'uniform', 0.7624398073836276, 0.46062464279944926, 0.7888617928107802]\n",
      "[9, 'distance', 0.7704654895666132, 0.4951572992300643, 0.8097205590073795]\n",
      "[10, 'uniform', 0.7608346709470305, 0.4641891122296398, 0.788796102022828]\n",
      "[10, 'distance', 0.7720706260032103, 0.4969899538820126, 0.8103127227651656]\n",
      "[11, 'uniform', 0.7608346709470305, 0.4535880375284462, 0.7830733618266685]\n",
      "[11, 'distance', 0.7688603531300161, 0.47762579429523966, 0.8081619528518602]\n",
      "[12, 'uniform', 0.7640449438202247, 0.4592608764109255, 0.7728630298923551]\n",
      "[12, 'distance', 0.7736757624398074, 0.49342229629146084, 0.8036118877424]\n",
      "\n",
      "\n",
      "Best validate results and params: [7, 'distance', 0.7720706260032103, 0.496457471441803, 0.8151627833379484]\n",
      "Result of test: [[7, 'distance', 0.7945454545454546, 0.5772872845208974, 0.8311541781552815]]\n",
      "\n",
      "\n",
      "\n",
      "\n",
      "Using  KNN and Synthetic Minority Oversampling Technique (SMOTE) data augmentation technic\n",
      "\n",
      "\n",
      "Results of validate:\n",
      "\n",
      "[2, 'uniform', 0.6998394863563403, 0.5384012792230035, 0.7799466234666613]\n",
      "[2, 'distance', 0.6869983948635634, 0.5294880329131203, 0.7675994463152511]\n",
      "[3, 'uniform', 0.6613162118780096, 0.5202346606173311, 0.7685243197719994]\n",
      "[3, 'distance', 0.6581059390048154, 0.5141616531851464, 0.7648286373607589]\n",
      "[4, 'uniform', 0.6741573033707865, 0.5232159899245483, 0.7787578343203218]\n",
      "[4, 'distance', 0.6789727126805778, 0.5402604356737536, 0.7807198024363512]\n",
      "[5, 'uniform', 0.6548956661316212, 0.5141043119779874, 0.7718391370305606]\n",
      "[5, 'distance', 0.6565008025682183, 0.5167018584910134, 0.7703133342938748]\n",
      "[6, 'uniform', 0.6565008025682183, 0.5057611040946662, 0.7716126160332029]\n",
      "[6, 'distance', 0.6500802568218299, 0.5063327509631189, 0.7655030888154047]\n",
      "[7, 'uniform', 0.6532905296950241, 0.5117719167057431, 0.7781222502260976]\n",
      "[7, 'distance', 0.666131621187801, 0.5260622194001463, 0.7832872233311672]\n",
      "[8, 'uniform', 0.6613162118780096, 0.5238741031237778, 0.7964649742758719]\n",
      "[8, 'distance', 0.6629213483146067, 0.5325167581396617, 0.7827141366442051]\n",
      "[9, 'uniform', 0.6452648475120385, 0.5117421184718315, 0.7759275476702742]\n",
      "[9, 'distance', 0.6532905296950241, 0.520817317293198, 0.7825081847867272]\n",
      "[10, 'uniform', 0.6500802568218299, 0.5052911335623511, 0.7802202353747715]\n",
      "[10, 'distance', 0.651685393258427, 0.5150044925533829, 0.7753329420158941]\n",
      "[11, 'uniform', 0.6324237560192616, 0.49290428780666584, 0.7801102409046984]\n",
      "[11, 'distance', 0.6388443017656501, 0.5007325009696784, 0.7802897461443487]\n",
      "[12, 'uniform', 0.651685393258427, 0.5047204000848666, 0.7824172827240939]\n",
      "[12, 'distance', 0.6548956661316212, 0.5124316699892577, 0.786390610576289]\n",
      "\n",
      "\n",
      "Best validate results and params: [8, 'uniform', 0.6613162118780096, 0.5238741031237778, 0.7964649742758719]\n",
      "Result of test: [[8, 'uniform', 0.6509090909090909, 0.5035583430728752, 0.7712549069735992]]\n",
      "\n",
      "\n",
      "\n",
      "\n",
      "Using  KNN and RandomOverSampler data augmentation technic\n",
      "\n",
      "\n",
      "Results of validate:\n",
      "\n",
      "[2, 'uniform', 0.7335473515248796, 0.5328717062722736, 0.7618854956452529]\n",
      "[2, 'distance', 0.7415730337078652, 0.5384159270593273, 0.7693173571100612]\n",
      "[3, 'uniform', 0.723916532905297, 0.5320393341217913, 0.7849472115245426]\n",
      "[3, 'distance', 0.7255216693418941, 0.5332766823077637, 0.7861575841171318]\n",
      "[4, 'uniform', 0.709470304975923, 0.5146067563205893, 0.7711782013662556]\n",
      "[4, 'distance', 0.723916532905297, 0.5305512098456404, 0.7873021153899471]\n",
      "[5, 'uniform', 0.6757624398073836, 0.48591942184227693, 0.7625856292281099]\n",
      "[5, 'distance', 0.6853932584269663, 0.4970056401760319, 0.7741013939544735]\n",
      "[6, 'uniform', 0.6773675762439807, 0.4859419980964633, 0.7541714184911867]\n",
      "[6, 'distance', 0.6886035313001605, 0.4972713008575077, 0.7692612055262167]\n",
      "[7, 'uniform', 0.6725521669341894, 0.4906727218181771, 0.762603987851578]\n",
      "[7, 'distance', 0.6837881219903692, 0.5029099809781845, 0.7710379938627206]\n",
      "[8, 'uniform', 0.6757624398073836, 0.49252131046784636, 0.7527528776497152]\n",
      "[8, 'distance', 0.6853932584269663, 0.5035882615300673, 0.7711188645320399]\n",
      "[9, 'uniform', 0.6757624398073836, 0.4961967965734365, 0.7638364127354462]\n",
      "[9, 'distance', 0.6869983948635634, 0.5070195680422056, 0.7782239339252675]\n",
      "[10, 'uniform', 0.6693418940609952, 0.48015523455691744, 0.7433938080007375]\n",
      "[10, 'distance', 0.6902086677367576, 0.5099194025005814, 0.7726845875635255]\n",
      "[11, 'uniform', 0.6709470304975923, 0.4966758439925899, 0.7597872572133285]\n",
      "[11, 'distance', 0.6853932584269663, 0.5157169392496155, 0.7730577362268702]\n",
      "[12, 'uniform', 0.6902086677367576, 0.5089861025572634, 0.7769206790374945]\n",
      "[12, 'distance', 0.695024077046549, 0.5189548980189415, 0.7789510189421013]\n",
      "\n",
      "\n",
      "Best validate results and params: [4, 'distance', 0.723916532905297, 0.5305512098456404, 0.7873021153899471]\n",
      "Result of test: [[4, 'distance', 0.7254545454545455, 0.5433848664313236, 0.7932187626764813]]\n",
      "\n",
      "\n",
      "\n",
      "\n",
      "Using  KNN and BorderlineSMOTE data augmentation technic\n",
      "\n",
      "\n",
      "Results of validate:\n",
      "\n",
      "[2, 'uniform', 0.7030497592295345, 0.531723218913415, 0.7728852022789421]\n",
      "[2, 'distance', 0.6998394863563403, 0.5397047359694704, 0.7837304605200437]\n",
      "[3, 'uniform', 0.6869983948635634, 0.5300876870129683, 0.7685877360044131]\n",
      "[3, 'distance', 0.7030497592295345, 0.5524655367472353, 0.7865728938909993]\n",
      "[4, 'uniform', 0.6821829855537721, 0.519275993706309, 0.7606575685153336]\n",
      "[4, 'distance', 0.6886035313001605, 0.5297293508671221, 0.774627999959157]\n",
      "[5, 'uniform', 0.6581059390048154, 0.49214228319110614, 0.7585640949056358]\n",
      "[5, 'distance', 0.6709470304975923, 0.5107134205596946, 0.766575557208031]\n",
      "[6, 'uniform', 0.6677367576243981, 0.4983086080888824, 0.7567244105754369]\n",
      "[6, 'distance', 0.6789727126805778, 0.5152145810906574, 0.7725343851725858]\n",
      "[7, 'uniform', 0.666131621187801, 0.5055289588208519, 0.7543557575886626]\n",
      "[7, 'distance', 0.6677367576243981, 0.5046020733026575, 0.7597433287809856]\n",
      "[8, 'uniform', 0.6757624398073836, 0.51436346967986, 0.7672000398191201]\n",
      "[8, 'distance', 0.6821829855537721, 0.5237907631222616, 0.7788462870134215]\n",
      "[9, 'uniform', 0.6629213483146067, 0.5088578600033078, 0.7743858005028594]\n",
      "[9, 'distance', 0.6677367576243981, 0.5089211879390876, 0.7675758392123279]\n",
      "[10, 'uniform', 0.6773675762439807, 0.5133511142916307, 0.7857864904071059]\n",
      "[10, 'distance', 0.6789727126805778, 0.5229384205052927, 0.7785781931992053]\n",
      "[11, 'uniform', 0.6597110754414125, 0.5015690190481139, 0.7776097745015527]\n",
      "[11, 'distance', 0.6677367576243981, 0.5120080351970115, 0.7754200470780176]\n",
      "[12, 'uniform', 0.6629213483146067, 0.49604359300401873, 0.7793147022805184]\n",
      "[12, 'distance', 0.6709470304975923, 0.515984119613418, 0.7864203924109958]\n",
      "\n",
      "\n",
      "Best validate results and params: [3, 'distance', 0.7030497592295345, 0.5524655367472353, 0.7865728938909993]\n",
      "Result of test: [[3, 'distance', 0.68, 0.5202323237317935, 0.7613397518475828]]\n",
      "\n",
      "\n",
      "\n",
      "\n",
      "Using  KNN and ADASYN data augmentation technic\n",
      "\n",
      "\n",
      "Results of validate:\n",
      "\n",
      "[2, 'uniform', 0.6886035313001605, 0.5221185543196716, 0.78192816842402]\n",
      "[2, 'distance', 0.6677367576243981, 0.5144141047717035, 0.7677985631979515]\n",
      "[3, 'uniform', 0.6645264847512039, 0.5276437974910944, 0.7826219539013227]\n",
      "[3, 'distance', 0.6693418940609952, 0.5283311009824253, 0.7768971230347065]\n",
      "[4, 'uniform', 0.6725521669341894, 0.5252525722056455, 0.7914461518842059]\n",
      "[4, 'distance', 0.6725521669341894, 0.52982278571795, 0.7872963937691159]\n",
      "[5, 'uniform', 0.651685393258427, 0.5088139168174414, 0.790877642126356]\n",
      "[5, 'distance', 0.6500802568218299, 0.5036097901013353, 0.7830492679696888]\n",
      "[6, 'uniform', 0.6565008025682183, 0.514009229608609, 0.7730983130802761]\n",
      "[6, 'distance', 0.6565008025682183, 0.5112786483645367, 0.777301475162054]\n",
      "[7, 'uniform', 0.6276083467094703, 0.4916215993113472, 0.7691822709791312]\n",
      "[7, 'distance', 0.6340288924558587, 0.49614210228025646, 0.7729488206697559]\n",
      "[8, 'uniform', 0.6276083467094703, 0.48709367227457034, 0.7570792782035645]\n",
      "[8, 'distance', 0.6340288924558587, 0.4960075082146919, 0.7670171725270324]\n",
      "[9, 'uniform', 0.622792937399679, 0.4923416248895903, 0.7614537737475239]\n",
      "[9, 'distance', 0.6292134831460674, 0.4937232050832823, 0.7663634387161279]\n",
      "[10, 'uniform', 0.6243980738362761, 0.4843276982212236, 0.7680859164470464]\n",
      "[10, 'distance', 0.6388443017656501, 0.5046758997723362, 0.7710010929586817]\n",
      "[11, 'uniform', 0.6243980738362761, 0.49005903267479195, 0.7634147943202876]\n",
      "[11, 'distance', 0.6324237560192616, 0.4975781236467965, 0.7634752638880853]\n",
      "[12, 'uniform', 0.6243980738362761, 0.4861320018283223, 0.7601010985010257]\n",
      "[12, 'distance', 0.6292134831460674, 0.49256186281436476, 0.7580938806101816]\n",
      "\n",
      "\n",
      "Best validate results and params: [4, 'uniform', 0.6725521669341894, 0.5252525722056455, 0.7914461518842059]\n",
      "Result of test: [[4, 'uniform', 0.6654545454545454, 0.5230308351442372, 0.7690076789339165]]\n",
      "\n",
      "\n",
      "\n",
      "\n"
     ]
    }
   ],
   "source": [
    "from sklearn.neighbors import KNeighborsClassifier\n",
    "\n",
    "getResults(\"KNN\", \"Nothing\", x_train, y_train, x_val, y_val, x_test, y_test)\n",
    "getResults(\"KNN\", \"Synthetic Minority Oversampling Technique (SMOTE)\",  x_train_SMOTE, y_train_SMOTE, x_val, y_val, x_test, y_test)\n",
    "getResults(\"KNN\", \"RandomOverSampler\", x_train_ROV, y_train_ROV, x_val, y_val, x_test, y_test)\n",
    "getResults(\"KNN\", \"BorderlineSMOTE\",  x_train_BLM, y_train_BLM, x_val, y_val, x_test, y_test)\n",
    "getResults(\"KNN\", \"ADASYN\", x_train_ADASYN, y_train_ADASYN, x_val, y_val, x_test, y_test)"
   ]
  },
  {
   "cell_type": "markdown",
   "id": "6bbf1701",
   "metadata": {
    "papermill": {
     "duration": 0.438652,
     "end_time": "2022-07-03T16:51:27.784719",
     "exception": false,
     "start_time": "2022-07-03T16:51:27.346067",
     "status": "completed"
    },
    "tags": []
   },
   "source": [
    "# Decision Tree"
   ]
  },
  {
   "cell_type": "code",
   "execution_count": 32,
   "id": "bdd914d3",
   "metadata": {
    "execution": {
     "iopub.execute_input": "2022-07-03T16:51:29.476145Z",
     "iopub.status.busy": "2022-07-03T16:51:29.475537Z",
     "iopub.status.idle": "2022-07-03T16:57:15.006140Z",
     "shell.execute_reply": "2022-07-03T16:57:15.005088Z"
    },
    "papermill": {
     "duration": 346.430491,
     "end_time": "2022-07-03T16:57:15.009075",
     "exception": false,
     "start_time": "2022-07-03T16:51:28.578584",
     "status": "completed"
    },
    "tags": []
   },
   "outputs": [
    {
     "name": "stdout",
     "output_type": "stream",
     "text": [
      "Using  Decision Tree and Nothing data augmentation technic\n",
      "\n",
      "\n",
      "Results of validate:\n",
      "\n",
      "[2, 'gini', 0.6886035313001605, 0.29884751392289083, 0.598690089660719]\n",
      "[2, 'entropy', 0.666131621187801, 0.3070299894284602, 0.635505816875314]\n",
      "[3, 'gini', 0.7191011235955056, 0.3647509300058491, 0.7277074257927261]\n",
      "[3, 'entropy', 0.7126805778491172, 0.31590713208360266, 0.7388398131140295]\n",
      "[4, 'gini', 0.723916532905297, 0.37901475226130477, 0.7598584175754937]\n",
      "[4, 'entropy', 0.7142857142857143, 0.37395560635087555, 0.74316533155997]\n",
      "[5, 'gini', 0.7303370786516854, 0.4138827585643418, 0.7645447716276053]\n",
      "[5, 'entropy', 0.7255216693418941, 0.4539123638270489, 0.7679669437749028]\n",
      "[6, 'gini', 0.7271268057784912, 0.4667470325756827, 0.7486628660822505]\n",
      "[6, 'entropy', 0.6966292134831461, 0.44320362383562084, 0.7312566481813939]\n",
      "\n",
      "\n",
      "Best validate results and params: [5, 'entropy', 0.7255216693418941, 0.4539123638270489, 0.7679669437749028]\n",
      "Result of test: [[5, 'entropy', 0.7127272727272728, 0.40922295488586524, 0.7444571344867286]]\n",
      "\n",
      "\n",
      "\n",
      "\n",
      "Using  Decision Tree and Synthetic Minority Oversampling Technique (SMOTE) data augmentation technic\n",
      "\n",
      "\n",
      "Results of validate:\n",
      "\n",
      "[2, 'gini', 0.449438202247191, 0.26563272329813065, 0.6070245719317493]\n",
      "[2, 'entropy', 0.4767255216693419, 0.28045849013898955, 0.7028655154189565]\n",
      "[3, 'gini', 0.5152487961476726, 0.39557167257676473, 0.583032028558048]\n",
      "[3, 'entropy', 0.5730337078651685, 0.3729941834773878, 0.7381977938016331]\n",
      "[4, 'gini', 0.5569823434991974, 0.40106967722225384, 0.6487145628488484]\n",
      "[4, 'entropy', 0.565008025682183, 0.4106091093828554, 0.7135328879231566]\n",
      "[5, 'gini', 0.5778491171749599, 0.42379971419153206, 0.6871407567414158]\n",
      "[5, 'entropy', 0.5682182985553772, 0.42245305030720204, 0.7200209722118194]\n",
      "[6, 'gini', 0.5457463884430177, 0.40653622921589455, 0.645874905976385]\n",
      "[6, 'entropy', 0.5971107544141252, 0.44583208045496053, 0.7249589856860741]\n",
      "\n",
      "\n",
      "Best validate results and params: [3, 'entropy', 0.5730337078651685, 0.3729941834773878, 0.7381977938016331]\n",
      "Result of test: [[3, 'entropy', 0.6309090909090909, 0.4641236796148124, 0.7225584194007675]]\n",
      "\n",
      "\n",
      "\n",
      "\n",
      "Using  Decision Tree and RandomOverSampler data augmentation technic\n",
      "\n",
      "\n",
      "Results of validate:\n",
      "\n",
      "[2, 'gini', 0.41252006420545745, 0.2470752423484941, 0.4607471524029201]\n",
      "[2, 'entropy', 0.5232744783306581, 0.27762130743479385, 0.6911545241974635]\n",
      "[3, 'gini', 0.5457463884430177, 0.36200617943664076, 0.6429105672377255]\n",
      "[3, 'entropy', 0.5842696629213483, 0.4283589656126077, 0.72236173144935]\n",
      "[4, 'gini', 0.5762439807383628, 0.3891203555587533, 0.6967539634116524]\n",
      "[4, 'entropy', 0.593900481540931, 0.42457308098936475, 0.7302801473291693]\n",
      "[5, 'gini', 0.6067415730337079, 0.4433707573678209, 0.6732914670713368]\n",
      "[5, 'entropy', 0.608346709470305, 0.4208429844398888, 0.6950378145041085]\n",
      "[6, 'gini', 0.6260032102728732, 0.4583949763775525, 0.6969977268798394]\n",
      "[6, 'entropy', 0.5906902086677368, 0.4054704603568647, 0.6551904672153464]\n",
      "\n",
      "\n",
      "Best validate results and params: [4, 'entropy', 0.593900481540931, 0.42457308098936475, 0.7302801473291693]\n",
      "Result of test: [[4, 'entropy', 0.5618181818181818, 0.3832343327170914, 0.6810390038107068]]\n",
      "\n",
      "\n",
      "\n",
      "\n",
      "Using  Decision Tree and BorderlineSMOTE data augmentation technic\n",
      "\n",
      "\n",
      "Results of validate:\n",
      "\n",
      "[2, 'gini', 0.45264847512038525, 0.272990077254141, 0.597797429159177]\n",
      "[2, 'entropy', 0.5601926163723917, 0.3152395199507217, 0.7174201837883383]\n",
      "[3, 'gini', 0.5280898876404494, 0.39285857670362284, 0.6189704471053777]\n",
      "[3, 'entropy', 0.6115569823434992, 0.44087324923426346, 0.7293561380503188]\n",
      "[4, 'gini', 0.521669341894061, 0.39658847161547617, 0.6192451429089085]\n",
      "[4, 'entropy', 0.6388443017656501, 0.4792721912616848, 0.7448916404532511]\n",
      "[5, 'gini', 0.6131621187800963, 0.4457933488894786, 0.7085201002005233]\n",
      "[5, 'entropy', 0.6276083467094703, 0.461550193085975, 0.7757472880142164]\n",
      "[6, 'gini', 0.622792937399679, 0.4493063400803643, 0.6869968949462236]\n",
      "[6, 'entropy', 0.6436597110754414, 0.47949299858130345, 0.7591904281101514]\n",
      "\n",
      "\n",
      "Best validate results and params: [5, 'entropy', 0.6276083467094703, 0.461550193085975, 0.7757472880142164]\n",
      "Result of test: [[5, 'entropy', 0.6381818181818182, 0.46577747447669715, 0.7513335235037596]]\n",
      "\n",
      "\n",
      "\n",
      "\n",
      "Using  Decision Tree and ADASYN data augmentation technic\n",
      "\n",
      "\n",
      "Results of validate:\n",
      "\n",
      "[2, 'gini', 0.4654895666131621, 0.2733390667126981, 0.6280390571441001]\n",
      "[2, 'entropy', 0.4590690208667737, 0.26117023957931884, 0.6717924301151577]\n",
      "[3, 'gini', 0.5152487961476726, 0.3865783815241552, 0.5746462466872486]\n",
      "[3, 'entropy', 0.5634028892455859, 0.3649588838487543, 0.7280201892504599]\n",
      "[4, 'gini', 0.5762439807383628, 0.4300239631455101, 0.6076854299309654]\n",
      "[4, 'entropy', 0.5858747993579454, 0.44599718636096153, 0.7360996345737938]\n",
      "[5, 'gini', 0.6308186195826645, 0.46663330539783915, 0.6820439301979553]\n",
      "[5, 'entropy', 0.6308186195826645, 0.470229421354738, 0.7468668813040771]\n",
      "[6, 'gini', 0.6292134831460674, 0.46468794003805075, 0.703060307809902]\n",
      "[6, 'entropy', 0.6195826645264848, 0.4617694367733992, 0.7552674360746093]\n",
      "\n",
      "\n",
      "Best validate results and params: [6, 'entropy', 0.6195826645264848, 0.4617694367733992, 0.7552674360746093]\n",
      "Result of test: [[6, 'entropy', 0.6381818181818182, 0.45696781937459907, 0.7259395673225184]]\n",
      "\n",
      "\n",
      "\n",
      "\n"
     ]
    }
   ],
   "source": [
    "from sklearn.tree import DecisionTreeClassifier\n",
    "\n",
    "getResults(\"Decision Tree\", \"Nothing\", x_train, y_train, x_val, y_val, x_test, y_test)\n",
    "getResults(\"Decision Tree\", \"Synthetic Minority Oversampling Technique (SMOTE)\", x_train_SMOTE, y_train_SMOTE, x_val, y_val, x_test, y_test)\n",
    "getResults(\"Decision Tree\", \"RandomOverSampler\", x_train_ROV, y_train_ROV, x_val, y_val, x_test, y_test)\n",
    "getResults(\"Decision Tree\", \"BorderlineSMOTE\", x_train_BLM, y_train_BLM, x_val, y_val, x_test, y_test)\n",
    "getResults(\"Decision Tree\", \"ADASYN\", x_train_ADASYN, y_train_ADASYN, x_val, y_val, x_test, y_test)"
   ]
  },
  {
   "cell_type": "markdown",
   "id": "83655f4f",
   "metadata": {
    "papermill": {
     "duration": 0.439914,
     "end_time": "2022-07-03T16:57:15.875068",
     "exception": false,
     "start_time": "2022-07-03T16:57:15.435154",
     "status": "completed"
    },
    "tags": []
   },
   "source": [
    "## Support Vector Machines (SVM)"
   ]
  },
  {
   "cell_type": "code",
   "execution_count": 33,
   "id": "f10d41a8",
   "metadata": {
    "execution": {
     "iopub.execute_input": "2022-07-03T16:57:16.786075Z",
     "iopub.status.busy": "2022-07-03T16:57:16.785701Z",
     "iopub.status.idle": "2022-07-03T17:05:49.655075Z",
     "shell.execute_reply": "2022-07-03T17:05:49.652890Z"
    },
    "papermill": {
     "duration": 513.352537,
     "end_time": "2022-07-03T17:05:49.658128",
     "exception": false,
     "start_time": "2022-07-03T16:57:16.305591",
     "status": "completed"
    },
    "tags": []
   },
   "outputs": [
    {
     "name": "stdout",
     "output_type": "stream",
     "text": [
      "Using  SVM and Nothing data augmentation technic\n",
      "\n",
      "\n",
      "Results of validate:\n",
      "\n",
      "[10, 'linear', 0.797752808988764, 0.6133721376915101, 0.8721977549986858]\n",
      "[10, 'poly', 0.8218298555377207, 0.6326302773850545, 0.880552182527002]\n",
      "[10, 'rbf', 0.8298555377207063, 0.6462966826650732, 0.8888822522695164]\n",
      "[10, 'sigmoid', 0.7640449438202247, 0.5232992603673232, 0.8265153637416534]\n",
      "[100, 'linear', 0.7913322632423756, 0.5947637740861388, 0.8635410058425639]\n",
      "[100, 'poly', 0.8138041733547352, 0.6291580935216347, 0.8870104086648326]\n",
      "[100, 'rbf', 0.8218298555377207, 0.6499814040330121, 0.8844698779924924]\n",
      "[100, 'sigmoid', 0.7415730337078652, 0.5379288428589899, 0.7960076139694219]\n",
      "[1000, 'linear', 0.797752808988764, 0.6015285536630847, 0.8564713123105265]\n",
      "[1000, 'poly', 0.8057784911717496, 0.61139051090243, 0.8747685266851708]\n",
      "[1000, 'rbf', 0.8234349919743178, 0.6495695090664, 0.8829165527978091]\n",
      "[1000, 'sigmoid', 0.7223113964686998, 0.514185966559895, 0.7913669377636672]\n",
      "\n",
      "\n",
      "Best validate results and params: [10, 'rbf', 0.8298555377207063, 0.6462966826650732, 0.8888822522695164]\n",
      "Result of test: [[10, 'rbf', 0.8236363636363636, 0.6322155859959131, 0.8664879345049742]]\n",
      "\n",
      "\n",
      "\n",
      "\n",
      "Using  SVM and Synthetic Minority Oversampling Technique (SMOTE) data augmentation technic\n",
      "\n",
      "\n",
      "Results of validate:\n",
      "\n",
      "[10, 'linear', 0.7897271268057785, 0.6051013570221782, 0.8578550659680524]\n",
      "[10, 'poly', 0.8009630818619583, 0.6263691212829288, 0.880071587992097]\n",
      "[10, 'rbf', 0.8089887640449438, 0.6309418533662356, 0.8786702414260953]\n",
      "[10, 'sigmoid', 0.6837881219903692, 0.4979713740366263, 0.8109780779865174]\n",
      "[100, 'linear', 0.7881219903691814, 0.6120224475524088, 0.8554050939497722]\n",
      "[100, 'poly', 0.7945425361155698, 0.6118388480268455, 0.8766957968535536]\n",
      "[100, 'rbf', 0.8073836276083467, 0.6216554735323871, 0.8770076422562603]\n",
      "[100, 'sigmoid', 0.6677367576243981, 0.46591167798015903, 0.769725848704708]\n",
      "[1000, 'linear', 0.7720706260032103, 0.5801335053271768, 0.846765598097893]\n",
      "[1000, 'poly', 0.7993579454253612, 0.6129507681643557, 0.8826080646467498]\n",
      "[1000, 'rbf', 0.8025682182985554, 0.606715999326093, 0.8754716422403901]\n",
      "[1000, 'sigmoid', 0.6581059390048154, 0.45339387310031753, 0.7518867074268908]\n",
      "\n",
      "\n",
      "Best validate results and params: [1000, 'poly', 0.7993579454253612, 0.6129507681643557, 0.8826080646467498]\n",
      "Result of test: [[1000, 'poly', 0.7909090909090909, 0.6005942088122285, 0.8505030109291797]]\n",
      "\n",
      "\n",
      "\n",
      "\n",
      "Using  SVM and RandomOverSampler data augmentation technic\n",
      "\n",
      "\n",
      "Results of validate:\n",
      "\n",
      "[10, 'linear', 0.7849117174959872, 0.5852487135989013, 0.8583683643146001]\n",
      "[10, 'poly', 0.8105939004815409, 0.6278602388163759, 0.8904178304736932]\n",
      "[10, 'rbf', 0.8089887640449438, 0.630794061781643, 0.8834715381258184]\n",
      "[10, 'sigmoid', 0.695024077046549, 0.5243909643071858, 0.7740816551410951]\n",
      "[100, 'linear', 0.7945425361155698, 0.6102833977817286, 0.8619036591014358]\n",
      "[100, 'poly', 0.812199036918138, 0.6178027934125496, 0.8895038868287548]\n",
      "[100, 'rbf', 0.8218298555377207, 0.6484161357369223, 0.8869424616863562]\n",
      "[100, 'sigmoid', 0.6966292134831461, 0.5204650071632422, 0.7960984494145193]\n",
      "[1000, 'linear', 0.7929373996789727, 0.6030586912708676, 0.8580236426993946]\n",
      "[1000, 'poly', 0.7993579454253612, 0.5783076190919385, 0.871919971919972]\n",
      "[1000, 'rbf', 0.8089887640449438, 0.5986292980878083, 0.8776021244890654]\n",
      "[1000, 'sigmoid', 0.7014446227929374, 0.5305245702073556, 0.7934867033463434]\n",
      "\n",
      "\n",
      "Best validate results and params: [10, 'poly', 0.8105939004815409, 0.6278602388163759, 0.8904178304736932]\n",
      "Result of test: [[10, 'poly', 0.8090909090909091, 0.623397952988117, 0.8608376892268006]]\n",
      "\n",
      "\n",
      "\n",
      "\n",
      "Using  SVM and BorderlineSMOTE data augmentation technic\n",
      "\n",
      "\n",
      "Results of validate:\n",
      "\n",
      "[10, 'linear', 0.8025682182985554, 0.6303743731561775, 0.8718419411203411]\n",
      "[10, 'poly', 0.8057784911717496, 0.6297869253981786, 0.885690546336484]\n",
      "[10, 'rbf', 0.8170144462279294, 0.6454782266983803, 0.8882220397501713]\n",
      "[10, 'sigmoid', 0.709470304975923, 0.5239658920083098, 0.8066836012959555]\n",
      "[100, 'linear', 0.7929373996789727, 0.6054664447924611, 0.8579200813788465]\n",
      "[100, 'poly', 0.8073836276083467, 0.6298597964633296, 0.8795535943005457]\n",
      "[100, 'rbf', 0.8170144462279294, 0.6430682046631866, 0.8794684953599834]\n",
      "[100, 'sigmoid', 0.7030497592295345, 0.5132614326731885, 0.7686567275471292]\n",
      "[1000, 'linear', 0.7640449438202247, 0.5627244411772679, 0.8370131526063816]\n",
      "[1000, 'poly', 0.7961476725521669, 0.5891976804094903, 0.8756440231218412]\n",
      "[1000, 'rbf', 0.7993579454253612, 0.5911906053210401, 0.8736287476499884]\n",
      "[1000, 'sigmoid', 0.7030497592295345, 0.5085766829960711, 0.7678412101620407]\n",
      "\n",
      "\n",
      "Best validate results and params: [10, 'rbf', 0.8170144462279294, 0.6454782266983803, 0.8882220397501713]\n",
      "Result of test: [[10, 'rbf', 0.8181818181818182, 0.6476579892766796, 0.8775539116971433]]\n",
      "\n",
      "\n",
      "\n",
      "\n",
      "Using  SVM and ADASYN data augmentation technic\n",
      "\n",
      "\n",
      "Results of validate:\n",
      "\n",
      "[10, 'linear', 0.7929373996789727, 0.6084701978311753, 0.8542611933388242]\n",
      "[10, 'poly', 0.8057784911717496, 0.630613784548261, 0.8887813866303674]\n",
      "[10, 'rbf', 0.8138041733547352, 0.6454624235863026, 0.8839677977239102]\n",
      "[10, 'sigmoid', 0.709470304975923, 0.5286348317365054, 0.8044757554295239]\n",
      "[100, 'linear', 0.7784911717495987, 0.5778094478868592, 0.847625153473436]\n",
      "[100, 'poly', 0.8057784911717496, 0.6256258601785939, 0.8784891978618281]\n",
      "[100, 'rbf', 0.8105939004815409, 0.6309844193491991, 0.879869561927574]\n",
      "[100, 'sigmoid', 0.6548956661316212, 0.46670094295011283, 0.7769587719358768]\n",
      "[1000, 'linear', 0.7865168539325843, 0.5818515011023175, 0.8426506196859042]\n",
      "[1000, 'poly', 0.7961476725521669, 0.5938249103086484, 0.8698575654480499]\n",
      "[1000, 'rbf', 0.8057784911717496, 0.6134792661658333, 0.8741579129184465]\n",
      "[1000, 'sigmoid', 0.651685393258427, 0.46576093744273306, 0.7689218724614757]\n",
      "\n",
      "\n",
      "Best validate results and params: [10, 'poly', 0.8057784911717496, 0.630613784548261, 0.8887813866303674]\n",
      "Result of test: [[10, 'poly', 0.8109090909090909, 0.6408552857057883, 0.875385224204075]]\n",
      "\n",
      "\n",
      "\n",
      "\n"
     ]
    }
   ],
   "source": [
    "from sklearn import svm\n",
    "\n",
    "getResults(\"SVM\", \"Nothing\", x_train, y_train, x_val, y_val, x_test, y_test)\n",
    "getResults(\"SVM\", \"Synthetic Minority Oversampling Technique (SMOTE)\",  x_train_SMOTE, y_train_SMOTE, x_val, y_val, x_test, y_test)\n",
    "getResults(\"SVM\", \"RandomOverSampler\", x_train_ROV, y_train_ROV, x_val, y_val, x_test, y_test)\n",
    "getResults(\"SVM\", \"BorderlineSMOTE\",  x_train_BLM, y_train_BLM, x_val, y_val, x_test, y_test)\n",
    "getResults(\"SVM\", \"ADASYN\", x_train_ADASYN, y_train_ADASYN, x_val, y_val, x_test, y_test)"
   ]
  },
  {
   "cell_type": "markdown",
   "id": "58031028",
   "metadata": {
    "papermill": {
     "duration": 0.494646,
     "end_time": "2022-07-03T17:05:50.578832",
     "exception": false,
     "start_time": "2022-07-03T17:05:50.084186",
     "status": "completed"
    },
    "tags": []
   },
   "source": [
    "## Convolution Neural Network (CNN) - EfficientNet-B4"
   ]
  },
  {
   "cell_type": "code",
   "execution_count": 34,
   "id": "aa618a99",
   "metadata": {
    "execution": {
     "iopub.execute_input": "2022-07-03T17:05:51.444860Z",
     "iopub.status.busy": "2022-07-03T17:05:51.444448Z",
     "iopub.status.idle": "2022-07-03T17:05:51.681339Z",
     "shell.execute_reply": "2022-07-03T17:05:51.680278Z"
    },
    "papermill": {
     "duration": 0.67496,
     "end_time": "2022-07-03T17:05:51.683416",
     "exception": false,
     "start_time": "2022-07-03T17:05:51.008456",
     "status": "completed"
    },
    "tags": []
   },
   "outputs": [
    {
     "data": {
      "text/plain": [
       "1166"
      ]
     },
     "execution_count": 34,
     "metadata": {},
     "output_type": "execute_result"
    }
   ],
   "source": [
    "# Free memory\n",
    "\n",
    "del x_train\n",
    "del y_train\n",
    "del x_val\n",
    "del y_val\n",
    "del x_test\n",
    "del y_test\n",
    "del x_train_SMOTE\n",
    "del y_train_SMOTE\n",
    "del x_train_ROV\n",
    "del y_train_ROV\n",
    "del x_train_BLM\n",
    "del y_train_BLM\n",
    "del x_train_ADASYN\n",
    "del y_train_ADASYN\n",
    "gc.collect()"
   ]
  },
  {
   "cell_type": "code",
   "execution_count": 35,
   "id": "ef692c64",
   "metadata": {
    "execution": {
     "iopub.execute_input": "2022-07-03T17:05:52.549476Z",
     "iopub.status.busy": "2022-07-03T17:05:52.548999Z",
     "iopub.status.idle": "2022-07-03T17:41:51.892079Z",
     "shell.execute_reply": "2022-07-03T17:41:51.890097Z"
    },
    "papermill": {
     "duration": 2159.782163,
     "end_time": "2022-07-03T17:41:51.894392",
     "exception": false,
     "start_time": "2022-07-03T17:05:52.112229",
     "status": "completed"
    },
    "tags": []
   },
   "outputs": [
    {
     "name": "stdout",
     "output_type": "stream",
     "text": [
      "Using  CNN and Nothing data augmentation technic\n",
      "\n",
      "\n"
     ]
    },
    {
     "name": "stderr",
     "output_type": "stream",
     "text": [
      "2022-07-03 17:05:52.559559: W tensorflow/core/framework/cpu_allocator_impl.cc:80] Allocation of 1078234800 exceeds 10% of free system memory.\n",
      "2022-07-03 17:05:53.687010: W tensorflow/core/framework/cpu_allocator_impl.cc:80] Allocation of 1078234800 exceeds 10% of free system memory.\n"
     ]
    },
    {
     "name": "stdout",
     "output_type": "stream",
     "text": [
      "Epoch 1/120\n",
      "78/78 [==============================] - 42s 367ms/step - loss: 1.1242 - accuracy: 0.5886 - val_loss: 0.7221 - val_accuracy: 0.7352\n",
      "\n",
      "Epoch 00001: val_loss improved from inf to 0.72211, saving model to model_B4\n"
     ]
    },
    {
     "name": "stderr",
     "output_type": "stream",
     "text": [
      "2022-07-03 17:07:04.158390: W tensorflow/python/util/util.cc:348] Sets are not currently considered sequences, but this may change in the future, so consider avoiding using them.\n",
      "/opt/conda/lib/python3.7/site-packages/keras/utils/generic_utils.py:497: CustomMaskWarning: Custom mask layers require a config and must override get_config. When loading, the custom mask layer must be passed to the custom_objects argument.\n",
      "  category=CustomMaskWarning)\n"
     ]
    },
    {
     "name": "stdout",
     "output_type": "stream",
     "text": [
      "Epoch 2/120\n",
      "78/78 [==============================] - 23s 301ms/step - loss: 0.7936 - accuracy: 0.7196 - val_loss: 0.6231 - val_accuracy: 0.7640\n",
      "\n",
      "Epoch 00002: val_loss improved from 0.72211 to 0.62314, saving model to model_B4\n"
     ]
    },
    {
     "name": "stderr",
     "output_type": "stream",
     "text": [
      "/opt/conda/lib/python3.7/site-packages/keras/utils/generic_utils.py:497: CustomMaskWarning: Custom mask layers require a config and must override get_config. When loading, the custom mask layer must be passed to the custom_objects argument.\n",
      "  category=CustomMaskWarning)\n"
     ]
    },
    {
     "name": "stdout",
     "output_type": "stream",
     "text": [
      "Epoch 3/120\n",
      "78/78 [==============================] - 23s 300ms/step - loss: 0.7472 - accuracy: 0.7220 - val_loss: 0.5915 - val_accuracy: 0.7673\n",
      "\n",
      "Epoch 00003: val_loss improved from 0.62314 to 0.59155, saving model to model_B4\n"
     ]
    },
    {
     "name": "stderr",
     "output_type": "stream",
     "text": [
      "/opt/conda/lib/python3.7/site-packages/keras/utils/generic_utils.py:497: CustomMaskWarning: Custom mask layers require a config and must override get_config. When loading, the custom mask layer must be passed to the custom_objects argument.\n",
      "  category=CustomMaskWarning)\n"
     ]
    },
    {
     "name": "stdout",
     "output_type": "stream",
     "text": [
      "Epoch 4/120\n",
      "78/78 [==============================] - 23s 300ms/step - loss: 0.7305 - accuracy: 0.7252 - val_loss: 0.6999 - val_accuracy: 0.7464\n",
      "\n",
      "Epoch 00004: val_loss did not improve from 0.59155\n",
      "Epoch 5/120\n",
      "78/78 [==============================] - 23s 299ms/step - loss: 0.7099 - accuracy: 0.7360 - val_loss: 0.6025 - val_accuracy: 0.7785\n",
      "\n",
      "Epoch 00005: val_loss did not improve from 0.59155\n",
      "Epoch 6/120\n",
      "78/78 [==============================] - 23s 301ms/step - loss: 0.6614 - accuracy: 0.7429 - val_loss: 0.5975 - val_accuracy: 0.7737\n",
      "\n",
      "Epoch 00006: val_loss did not improve from 0.59155\n",
      "Epoch 7/120\n",
      "78/78 [==============================] - 23s 301ms/step - loss: 0.6643 - accuracy: 0.7380 - val_loss: 0.5603 - val_accuracy: 0.7945\n",
      "\n",
      "Epoch 00007: val_loss improved from 0.59155 to 0.56034, saving model to model_B4\n"
     ]
    },
    {
     "name": "stderr",
     "output_type": "stream",
     "text": [
      "/opt/conda/lib/python3.7/site-packages/keras/utils/generic_utils.py:497: CustomMaskWarning: Custom mask layers require a config and must override get_config. When loading, the custom mask layer must be passed to the custom_objects argument.\n",
      "  category=CustomMaskWarning)\n"
     ]
    },
    {
     "name": "stdout",
     "output_type": "stream",
     "text": [
      "Epoch 8/120\n",
      "78/78 [==============================] - 23s 300ms/step - loss: 0.6355 - accuracy: 0.7557 - val_loss: 0.5459 - val_accuracy: 0.7994\n",
      "\n",
      "Epoch 00008: val_loss improved from 0.56034 to 0.54586, saving model to model_B4\n"
     ]
    },
    {
     "name": "stderr",
     "output_type": "stream",
     "text": [
      "/opt/conda/lib/python3.7/site-packages/keras/utils/generic_utils.py:497: CustomMaskWarning: Custom mask layers require a config and must override get_config. When loading, the custom mask layer must be passed to the custom_objects argument.\n",
      "  category=CustomMaskWarning)\n"
     ]
    },
    {
     "name": "stdout",
     "output_type": "stream",
     "text": [
      "Epoch 9/120\n",
      "78/78 [==============================] - 23s 300ms/step - loss: 0.6446 - accuracy: 0.7605 - val_loss: 0.5551 - val_accuracy: 0.8138\n",
      "\n",
      "Epoch 00009: val_loss did not improve from 0.54586\n",
      "Epoch 10/120\n",
      "78/78 [==============================] - 23s 300ms/step - loss: 0.6275 - accuracy: 0.7642 - val_loss: 0.5485 - val_accuracy: 0.8026\n",
      "\n",
      "Epoch 00010: val_loss did not improve from 0.54586\n",
      "Epoch 11/120\n",
      "78/78 [==============================] - 23s 299ms/step - loss: 0.6344 - accuracy: 0.7642 - val_loss: 0.5644 - val_accuracy: 0.7865\n",
      "\n",
      "Epoch 00011: val_loss did not improve from 0.54586\n",
      "Epoch 12/120\n",
      "78/78 [==============================] - 23s 300ms/step - loss: 0.6092 - accuracy: 0.7698 - val_loss: 0.5358 - val_accuracy: 0.7994\n",
      "\n",
      "Epoch 00012: val_loss improved from 0.54586 to 0.53583, saving model to model_B4\n"
     ]
    },
    {
     "name": "stderr",
     "output_type": "stream",
     "text": [
      "/opt/conda/lib/python3.7/site-packages/keras/utils/generic_utils.py:497: CustomMaskWarning: Custom mask layers require a config and must override get_config. When loading, the custom mask layer must be passed to the custom_objects argument.\n",
      "  category=CustomMaskWarning)\n"
     ]
    },
    {
     "name": "stdout",
     "output_type": "stream",
     "text": [
      "Epoch 13/120\n",
      "78/78 [==============================] - 23s 299ms/step - loss: 0.5987 - accuracy: 0.7770 - val_loss: 0.5187 - val_accuracy: 0.8058\n",
      "\n",
      "Epoch 00013: val_loss improved from 0.53583 to 0.51866, saving model to model_B4\n"
     ]
    },
    {
     "name": "stderr",
     "output_type": "stream",
     "text": [
      "/opt/conda/lib/python3.7/site-packages/keras/utils/generic_utils.py:497: CustomMaskWarning: Custom mask layers require a config and must override get_config. When loading, the custom mask layer must be passed to the custom_objects argument.\n",
      "  category=CustomMaskWarning)\n"
     ]
    },
    {
     "name": "stdout",
     "output_type": "stream",
     "text": [
      "Epoch 14/120\n",
      "78/78 [==============================] - 24s 308ms/step - loss: 0.5722 - accuracy: 0.7851 - val_loss: 0.5410 - val_accuracy: 0.7978\n",
      "\n",
      "Epoch 00014: val_loss did not improve from 0.51866\n",
      "Epoch 15/120\n",
      "78/78 [==============================] - 23s 300ms/step - loss: 0.6075 - accuracy: 0.7802 - val_loss: 0.5060 - val_accuracy: 0.8090\n",
      "\n",
      "Epoch 00015: val_loss improved from 0.51866 to 0.50597, saving model to model_B4\n"
     ]
    },
    {
     "name": "stderr",
     "output_type": "stream",
     "text": [
      "/opt/conda/lib/python3.7/site-packages/keras/utils/generic_utils.py:497: CustomMaskWarning: Custom mask layers require a config and must override get_config. When loading, the custom mask layer must be passed to the custom_objects argument.\n",
      "  category=CustomMaskWarning)\n"
     ]
    },
    {
     "name": "stdout",
     "output_type": "stream",
     "text": [
      "Epoch 16/120\n",
      "78/78 [==============================] - 23s 300ms/step - loss: 0.5823 - accuracy: 0.7754 - val_loss: 0.4973 - val_accuracy: 0.8122\n",
      "\n",
      "Epoch 00016: val_loss improved from 0.50597 to 0.49728, saving model to model_B4\n"
     ]
    },
    {
     "name": "stderr",
     "output_type": "stream",
     "text": [
      "/opt/conda/lib/python3.7/site-packages/keras/utils/generic_utils.py:497: CustomMaskWarning: Custom mask layers require a config and must override get_config. When loading, the custom mask layer must be passed to the custom_objects argument.\n",
      "  category=CustomMaskWarning)\n"
     ]
    },
    {
     "name": "stdout",
     "output_type": "stream",
     "text": [
      "Epoch 17/120\n",
      "78/78 [==============================] - 23s 300ms/step - loss: 0.5731 - accuracy: 0.7838 - val_loss: 0.5278 - val_accuracy: 0.7913\n",
      "\n",
      "Epoch 00017: val_loss did not improve from 0.49728\n",
      "Epoch 18/120\n",
      "78/78 [==============================] - 23s 300ms/step - loss: 0.5639 - accuracy: 0.7875 - val_loss: 0.5019 - val_accuracy: 0.8090\n",
      "\n",
      "Epoch 00018: val_loss did not improve from 0.49728\n",
      "Epoch 19/120\n",
      "78/78 [==============================] - 23s 300ms/step - loss: 0.5739 - accuracy: 0.7843 - val_loss: 0.5044 - val_accuracy: 0.8106\n",
      "\n",
      "Epoch 00019: val_loss did not improve from 0.49728\n",
      "Epoch 20/120\n",
      "78/78 [==============================] - 23s 299ms/step - loss: 0.5614 - accuracy: 0.7931 - val_loss: 0.5040 - val_accuracy: 0.8074\n",
      "\n",
      "Epoch 00020: val_loss did not improve from 0.49728\n",
      "Epoch 21/120\n",
      "78/78 [==============================] - 24s 309ms/step - loss: 0.5477 - accuracy: 0.7951 - val_loss: 0.4997 - val_accuracy: 0.8122\n",
      "\n",
      "Epoch 00021: val_loss did not improve from 0.49728\n",
      "Epoch 22/120\n",
      "78/78 [==============================] - 23s 301ms/step - loss: 0.5371 - accuracy: 0.7987 - val_loss: 0.4897 - val_accuracy: 0.8090\n",
      "\n",
      "Epoch 00022: val_loss improved from 0.49728 to 0.48969, saving model to model_B4\n"
     ]
    },
    {
     "name": "stderr",
     "output_type": "stream",
     "text": [
      "/opt/conda/lib/python3.7/site-packages/keras/utils/generic_utils.py:497: CustomMaskWarning: Custom mask layers require a config and must override get_config. When loading, the custom mask layer must be passed to the custom_objects argument.\n",
      "  category=CustomMaskWarning)\n"
     ]
    },
    {
     "name": "stdout",
     "output_type": "stream",
     "text": [
      "Epoch 23/120\n",
      "78/78 [==============================] - 23s 301ms/step - loss: 0.5351 - accuracy: 0.8051 - val_loss: 0.5004 - val_accuracy: 0.8138\n",
      "\n",
      "Epoch 00023: val_loss did not improve from 0.48969\n",
      "Epoch 24/120\n",
      "78/78 [==============================] - 23s 302ms/step - loss: 0.5289 - accuracy: 0.8055 - val_loss: 0.4882 - val_accuracy: 0.8170\n",
      "\n",
      "Epoch 00024: val_loss improved from 0.48969 to 0.48821, saving model to model_B4\n"
     ]
    },
    {
     "name": "stderr",
     "output_type": "stream",
     "text": [
      "/opt/conda/lib/python3.7/site-packages/keras/utils/generic_utils.py:497: CustomMaskWarning: Custom mask layers require a config and must override get_config. When loading, the custom mask layer must be passed to the custom_objects argument.\n",
      "  category=CustomMaskWarning)\n"
     ]
    },
    {
     "name": "stdout",
     "output_type": "stream",
     "text": [
      "Epoch 25/120\n",
      "78/78 [==============================] - 23s 300ms/step - loss: 0.5401 - accuracy: 0.8007 - val_loss: 0.4944 - val_accuracy: 0.8154\n",
      "\n",
      "Epoch 00025: val_loss did not improve from 0.48821\n",
      "Epoch 26/120\n",
      "78/78 [==============================] - 23s 302ms/step - loss: 0.5332 - accuracy: 0.8023 - val_loss: 0.4740 - val_accuracy: 0.8074\n",
      "\n",
      "Epoch 00026: val_loss improved from 0.48821 to 0.47396, saving model to model_B4\n"
     ]
    },
    {
     "name": "stderr",
     "output_type": "stream",
     "text": [
      "/opt/conda/lib/python3.7/site-packages/keras/utils/generic_utils.py:497: CustomMaskWarning: Custom mask layers require a config and must override get_config. When loading, the custom mask layer must be passed to the custom_objects argument.\n",
      "  category=CustomMaskWarning)\n"
     ]
    },
    {
     "name": "stdout",
     "output_type": "stream",
     "text": [
      "Epoch 27/120\n",
      "78/78 [==============================] - 23s 301ms/step - loss: 0.5231 - accuracy: 0.8128 - val_loss: 0.4841 - val_accuracy: 0.8154\n",
      "\n",
      "Epoch 00027: val_loss did not improve from 0.47396\n",
      "Epoch 28/120\n",
      "78/78 [==============================] - 23s 301ms/step - loss: 0.5214 - accuracy: 0.8023 - val_loss: 0.4975 - val_accuracy: 0.8170\n",
      "\n",
      "Epoch 00028: val_loss did not improve from 0.47396\n",
      "Epoch 29/120\n",
      "78/78 [==============================] - 24s 309ms/step - loss: 0.4941 - accuracy: 0.8136 - val_loss: 0.5328 - val_accuracy: 0.8058\n",
      "\n",
      "Epoch 00029: val_loss did not improve from 0.47396\n",
      "Epoch 30/120\n",
      "78/78 [==============================] - 23s 301ms/step - loss: 0.5021 - accuracy: 0.8055 - val_loss: 0.4804 - val_accuracy: 0.8170\n",
      "\n",
      "Epoch 00030: val_loss did not improve from 0.47396\n",
      "Epoch 31/120\n",
      "78/78 [==============================] - 24s 302ms/step - loss: 0.5099 - accuracy: 0.8072 - val_loss: 0.4685 - val_accuracy: 0.8170\n",
      "\n",
      "Epoch 00031: val_loss improved from 0.47396 to 0.46848, saving model to model_B4\n"
     ]
    },
    {
     "name": "stderr",
     "output_type": "stream",
     "text": [
      "/opt/conda/lib/python3.7/site-packages/keras/utils/generic_utils.py:497: CustomMaskWarning: Custom mask layers require a config and must override get_config. When loading, the custom mask layer must be passed to the custom_objects argument.\n",
      "  category=CustomMaskWarning)\n"
     ]
    },
    {
     "name": "stdout",
     "output_type": "stream",
     "text": [
      "Epoch 32/120\n",
      "78/78 [==============================] - 24s 308ms/step - loss: 0.5117 - accuracy: 0.8168 - val_loss: 0.4571 - val_accuracy: 0.8202\n",
      "\n",
      "Epoch 00032: val_loss improved from 0.46848 to 0.45711, saving model to model_B4\n"
     ]
    },
    {
     "name": "stderr",
     "output_type": "stream",
     "text": [
      "/opt/conda/lib/python3.7/site-packages/keras/utils/generic_utils.py:497: CustomMaskWarning: Custom mask layers require a config and must override get_config. When loading, the custom mask layer must be passed to the custom_objects argument.\n",
      "  category=CustomMaskWarning)\n"
     ]
    },
    {
     "name": "stdout",
     "output_type": "stream",
     "text": [
      "Epoch 33/120\n",
      "78/78 [==============================] - 23s 301ms/step - loss: 0.4857 - accuracy: 0.8116 - val_loss: 0.4689 - val_accuracy: 0.8074\n",
      "\n",
      "Epoch 00033: val_loss did not improve from 0.45711\n",
      "Epoch 34/120\n",
      "78/78 [==============================] - 23s 302ms/step - loss: 0.4978 - accuracy: 0.8160 - val_loss: 0.4869 - val_accuracy: 0.8138\n",
      "\n",
      "Epoch 00034: val_loss did not improve from 0.45711\n",
      "Epoch 35/120\n",
      "78/78 [==============================] - 23s 301ms/step - loss: 0.4944 - accuracy: 0.8176 - val_loss: 0.4853 - val_accuracy: 0.8250\n",
      "\n",
      "Epoch 00035: val_loss did not improve from 0.45711\n",
      "Epoch 36/120\n",
      "78/78 [==============================] - 23s 301ms/step - loss: 0.4820 - accuracy: 0.8184 - val_loss: 0.4739 - val_accuracy: 0.8266\n",
      "\n",
      "Epoch 00036: val_loss did not improve from 0.45711\n",
      "Epoch 37/120\n",
      "78/78 [==============================] - 24s 309ms/step - loss: 0.4775 - accuracy: 0.8220 - val_loss: 0.4673 - val_accuracy: 0.8122\n",
      "\n",
      "Epoch 00037: val_loss did not improve from 0.45711\n",
      "Epoch 38/120\n",
      "78/78 [==============================] - 23s 301ms/step - loss: 0.4798 - accuracy: 0.8220 - val_loss: 0.4789 - val_accuracy: 0.8154\n",
      "\n",
      "Epoch 00038: val_loss did not improve from 0.45711\n",
      "Epoch 39/120\n",
      "78/78 [==============================] - 23s 300ms/step - loss: 0.4604 - accuracy: 0.8228 - val_loss: 0.4763 - val_accuracy: 0.8106\n",
      "\n",
      "Epoch 00039: val_loss did not improve from 0.45711\n",
      "Epoch 40/120\n",
      "78/78 [==============================] - 23s 301ms/step - loss: 0.4814 - accuracy: 0.8128 - val_loss: 0.4905 - val_accuracy: 0.8138\n",
      "\n",
      "Epoch 00040: val_loss did not improve from 0.45711\n",
      "Epoch 41/120\n",
      "78/78 [==============================] - 24s 307ms/step - loss: 0.4697 - accuracy: 0.8264 - val_loss: 0.4907 - val_accuracy: 0.8138\n",
      "\n",
      "Epoch 00041: val_loss did not improve from 0.45711\n",
      "Epoch 42/120\n",
      "78/78 [==============================] - 23s 300ms/step - loss: 0.4809 - accuracy: 0.8164 - val_loss: 0.4818 - val_accuracy: 0.8202\n",
      "\n",
      "Epoch 00042: val_loss did not improve from 0.45711\n",
      "Epoch 00042: early stopping\n",
      "Results of validate:\n",
      "\n",
      "[32, 120, 0.8202247191011236, 0.6411689157969872, 0.8771246287279723]\n",
      "\n",
      "\n",
      "Best validate results and params: [32, 120, 0.8202247191011236, 0.6411689157969872, 0.8771246287279723]\n",
      "Result of test: [[32, 120, 0.84, 0.6793245942651167, 0.8771172916276868]]\n",
      "\n",
      "\n",
      "\n",
      "\n"
     ]
    }
   ],
   "source": [
    "from sklearn.preprocessing import OneHotEncoder\n",
    "\n",
    "getResults(\"CNN\", \"Nothing\", x_train_B4, oneHotEnconder(y_train_B4), x_val_B4, oneHotEnconder(y_val_B4), x_test_B4, y_test_B4)"
   ]
  }
 ],
 "metadata": {
  "kernelspec": {
   "display_name": "Python 3",
   "language": "python",
   "name": "python3"
  },
  "language_info": {
   "codemirror_mode": {
    "name": "ipython",
    "version": 3
   },
   "file_extension": ".py",
   "mimetype": "text/x-python",
   "name": "python",
   "nbconvert_exporter": "python",
   "pygments_lexer": "ipython3",
   "version": "3.7.12"
  },
  "papermill": {
   "default_parameters": {},
   "duration": 4763.123335,
   "end_time": "2022-07-03T17:41:55.700915",
   "environment_variables": {},
   "exception": null,
   "input_path": "__notebook__.ipynb",
   "output_path": "__notebook__.ipynb",
   "parameters": {},
   "start_time": "2022-07-03T16:22:32.577580",
   "version": "2.3.4"
  }
 },
 "nbformat": 4,
 "nbformat_minor": 5
}
